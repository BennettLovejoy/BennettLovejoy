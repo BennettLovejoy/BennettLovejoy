{
  "nbformat": 4,
  "nbformat_minor": 0,
  "metadata": {
    "colab": {
      "provenance": [],
      "authorship_tag": "ABX9TyMmcEfIMXBniXrHQ35JExYR",
      "include_colab_link": true
    },
    "kernelspec": {
      "name": "python3",
      "display_name": "Python 3"
    },
    "language_info": {
      "name": "python"
    }
  },
  "cells": [
    {
      "cell_type": "markdown",
      "metadata": {
        "id": "view-in-github",
        "colab_type": "text"
      },
      "source": [
        "<a href=\"https://colab.research.google.com/github/BennettLovejoy/BennettLovejoy/blob/main/API_Advanced_Portfolio.ipynb\" target=\"_parent\"><img src=\"https://colab.research.google.com/assets/colab-badge.svg\" alt=\"Open In Colab\"/></a>"
      ]
    },
    {
      "cell_type": "markdown",
      "source": [],
      "metadata": {
        "id": "xUm1IFEy5FyT"
      }
    },
    {
      "cell_type": "code",
      "execution_count": null,
      "metadata": {
        "id": "coGyjvLM8qBO"
      },
      "outputs": [],
      "source": [
        "import requests"
      ]
    },
    {
      "cell_type": "code",
      "source": [
        "# Make an API call and store the response\n",
        "url = 'https://api.github.com/search/repositories?q=language:python&sort=stars'\n",
        "headers = {'Accept': 'application/vnd.github.v3+json'}\n",
        "r = requests.get(url, headers=headers)\n",
        "print(f\"Status code: {r.status_code}\")\n",
        "\n",
        "# Store API response in a variable\n",
        "response_dict = r.json()\n",
        "\n",
        "# Process Results\n",
        "print(response_dict.keys())"
      ],
      "metadata": {
        "colab": {
          "base_uri": "https://localhost:8080/"
        },
        "id": "hC5z0VEf_Gjf",
        "outputId": "6293453e-9b9f-42e9-874b-463540a2d424"
      },
      "execution_count": null,
      "outputs": [
        {
          "output_type": "stream",
          "name": "stdout",
          "text": [
            "Status code: 200\n",
            "dict_keys(['total_count', 'incomplete_results', 'items'])\n"
          ]
        }
      ]
    },
    {
      "cell_type": "code",
      "source": [
        "print(f\"Total repositories: {response_dict['total_count']}\")\n",
        "\n",
        "# Explore information about the repositories\n",
        "repo_dicts = response_dict['items']\n",
        "print(f\"Repositories returned: {len(repo_dicts)}\")\n",
        "\n",
        "# Examine the first repository\n",
        "repo_dict = repo_dicts[0]\n",
        "print(f\"\\nKeys: {len(repo_dict)}\")\n",
        "for key in sorted(repo_dict.keys()):\n",
        "    print(key)"
      ],
      "metadata": {
        "colab": {
          "base_uri": "https://localhost:8080/"
        },
        "id": "s-xp5wwY_gAm",
        "outputId": "c0e25596-1610-4781-9b43-355251b969d0"
      },
      "execution_count": null,
      "outputs": [
        {
          "output_type": "stream",
          "name": "stdout",
          "text": [
            "Total repositories: 13701236\n",
            "Repositories returned: 30\n",
            "\n",
            "Keys: 80\n",
            "allow_forking\n",
            "archive_url\n",
            "archived\n",
            "assignees_url\n",
            "blobs_url\n",
            "branches_url\n",
            "clone_url\n",
            "collaborators_url\n",
            "comments_url\n",
            "commits_url\n",
            "compare_url\n",
            "contents_url\n",
            "contributors_url\n",
            "created_at\n",
            "default_branch\n",
            "deployments_url\n",
            "description\n",
            "disabled\n",
            "downloads_url\n",
            "events_url\n",
            "fork\n",
            "forks\n",
            "forks_count\n",
            "forks_url\n",
            "full_name\n",
            "git_commits_url\n",
            "git_refs_url\n",
            "git_tags_url\n",
            "git_url\n",
            "has_discussions\n",
            "has_downloads\n",
            "has_issues\n",
            "has_pages\n",
            "has_projects\n",
            "has_wiki\n",
            "homepage\n",
            "hooks_url\n",
            "html_url\n",
            "id\n",
            "is_template\n",
            "issue_comment_url\n",
            "issue_events_url\n",
            "issues_url\n",
            "keys_url\n",
            "labels_url\n",
            "language\n",
            "languages_url\n",
            "license\n",
            "merges_url\n",
            "milestones_url\n",
            "mirror_url\n",
            "name\n",
            "node_id\n",
            "notifications_url\n",
            "open_issues\n",
            "open_issues_count\n",
            "owner\n",
            "private\n",
            "pulls_url\n",
            "pushed_at\n",
            "releases_url\n",
            "score\n",
            "size\n",
            "ssh_url\n",
            "stargazers_count\n",
            "stargazers_url\n",
            "statuses_url\n",
            "subscribers_url\n",
            "subscription_url\n",
            "svn_url\n",
            "tags_url\n",
            "teams_url\n",
            "topics\n",
            "trees_url\n",
            "updated_at\n",
            "url\n",
            "visibility\n",
            "watchers\n",
            "watchers_count\n",
            "web_commit_signoff_required\n"
          ]
        }
      ]
    },
    {
      "cell_type": "code",
      "source": [
        "print(\"/nSelected information about first repository:\")\n",
        "print(f\"Name: {repo_dict['name']}\")\n",
        "print(f\"Owner: {repo_dict['owner']['login']}\")\n",
        "print(f\"Stars: {repo_dict['stargazers_count']}\")\n",
        "print(f\"Repository: {repo_dict['html_url']}\")\n",
        "print(f\"Created: {repo_dict['created_at']}\")\n",
        "print(f\"Updated: {repo_dict['updated_at']}\")\n",
        "print(f\"Description: {repo_dict['description']}\")"
      ],
      "metadata": {
        "colab": {
          "base_uri": "https://localhost:8080/"
        },
        "id": "VkTkyhwgQYF4",
        "outputId": "723e5ec3-1b42-4a4b-8855-405abdbaf402"
      },
      "execution_count": null,
      "outputs": [
        {
          "output_type": "stream",
          "name": "stdout",
          "text": [
            "/nSelected information about first repository:\n",
            "Name: Python\n",
            "Owner: TheAlgorithms\n",
            "Stars: 183400\n",
            "Repository: https://github.com/TheAlgorithms/Python\n",
            "Created: 2016-07-16T09:44:01Z\n",
            "Updated: 2024-08-20T14:20:25Z\n",
            "Description: All Algorithms implemented in Python\n"
          ]
        }
      ]
    },
    {
      "cell_type": "markdown",
      "source": [
        "# Summarizing the top repositories"
      ],
      "metadata": {
        "id": "EvBHuJrwRCwG"
      }
    },
    {
      "cell_type": "code",
      "source": [
        "print(\"/nSelected information about each repository:\")\n",
        "for repo_dict in repo_dicts:\n",
        "    print(f\"Name: {repo_dict['name']}\")\n",
        "    print(f\"Owner: {repo_dict['owner']['login']}\")\n",
        "    print(f\"Stars: {repo_dict['stargazers_count']}\")\n",
        "    print(f\"Repository: {repo_dict['html_url']}\")\n",
        "    print(f\"Description: {repo_dict['description']}\")\n"
      ],
      "metadata": {
        "colab": {
          "base_uri": "https://localhost:8080/"
        },
        "id": "IqhlSXmlRCMa",
        "outputId": "a51547ec-8f3b-46e3-fc9f-d61de9b1c3e6"
      },
      "execution_count": null,
      "outputs": [
        {
          "output_type": "stream",
          "name": "stdout",
          "text": [
            "/nSelected information about each repository:\n",
            "Name: Python\n",
            "Owner: TheAlgorithms\n",
            "Stars: 183400\n",
            "Repository: https://github.com/TheAlgorithms/Python\n",
            "Description: All Algorithms implemented in Python\n",
            "Name: transformers\n",
            "Owner: huggingface\n",
            "Stars: 130771\n",
            "Repository: https://github.com/huggingface/transformers\n",
            "Description: 🤗 Transformers: State-of-the-art Machine Learning for Pytorch, TensorFlow, and JAX.\n",
            "Name: yt-dlp\n",
            "Owner: yt-dlp\n",
            "Stars: 80377\n",
            "Repository: https://github.com/yt-dlp/yt-dlp\n",
            "Description: A feature-rich command-line audio/video downloader\n",
            "Name: whisper\n",
            "Owner: openai\n",
            "Stars: 66256\n",
            "Repository: https://github.com/openai/whisper\n",
            "Description: Robust Speech Recognition via Large-Scale Weak Supervision\n",
            "Name: d2l-zh\n",
            "Owner: d2l-ai\n",
            "Stars: 60596\n",
            "Repository: https://github.com/d2l-ai/d2l-zh\n",
            "Description: 《动手学深度学习》：面向中文读者、能运行、可讨论。中英文版被70多个国家的500多所大学用于教学。\n",
            "Name: scikit-learn\n",
            "Owner: scikit-learn\n",
            "Stars: 59207\n",
            "Repository: https://github.com/scikit-learn/scikit-learn\n",
            "Description: scikit-learn: machine learning in Python\n",
            "Name: screenshot-to-code\n",
            "Owner: abi\n",
            "Stars: 55664\n",
            "Repository: https://github.com/abi/screenshot-to-code\n",
            "Description: Drop in a screenshot and convert it to clean code (HTML/Tailwind/React/Vue)\n",
            "Name: faceswap\n",
            "Owner: deepfakes\n",
            "Stars: 50138\n",
            "Repository: https://github.com/deepfakes/faceswap\n",
            "Description: Deepfakes Software For All\n",
            "Name: professional-programming\n",
            "Owner: charlax\n",
            "Stars: 46118\n",
            "Repository: https://github.com/charlax/professional-programming\n",
            "Description: A collection of learning resources for curious software engineers\n",
            "Name: MetaGPT\n",
            "Owner: geekan\n",
            "Stars: 43077\n",
            "Repository: https://github.com/geekan/MetaGPT\n",
            "Description: 🌟 The Multi-Agent Framework: First AI Software Company, Towards Natural Language Programming\n",
            "Name: PaddleOCR\n",
            "Owner: PaddlePaddle\n",
            "Stars: 41908\n",
            "Repository: https://github.com/PaddlePaddle/PaddleOCR\n",
            "Description: Awesome multilingual OCR toolkits based on PaddlePaddle (practical ultra lightweight OCR system, support 80+ languages recognition, provide data annotation and synthesis tools, support training and deployment among server, mobile, embedded and IoT devices)\n",
            "Name: 30-Days-Of-Python\n",
            "Owner: Asabeneh\n",
            "Stars: 40358\n",
            "Repository: https://github.com/Asabeneh/30-Days-Of-Python\n",
            "Description: 30 days of Python programming challenge is a step-by-step guide to learn the Python programming language in 30 days. This challenge may take more than100 days, follow your own pace.  These videos may help too: https://www.youtube.com/channel/UC7PNRuno1rzYPb1xLa4yktw\n",
            "Name: python-patterns\n",
            "Owner: faif\n",
            "Stars: 40068\n",
            "Repository: https://github.com/faif/python-patterns\n",
            "Description: A collection of design patterns/idioms in Python\n",
            "Name: text-generation-webui\n",
            "Owner: oobabooga\n",
            "Stars: 39073\n",
            "Repository: https://github.com/oobabooga/text-generation-webui\n",
            "Description: A Gradio web UI for Large Language Models.\n",
            "Name: Deep-Learning-Papers-Reading-Roadmap\n",
            "Owner: floodsung\n",
            "Stars: 37855\n",
            "Repository: https://github.com/floodsung/Deep-Learning-Papers-Reading-Roadmap\n",
            "Description: Deep Learning papers reading roadmap for anyone who are eager to learn this amazing tech!\n",
            "Name: odoo\n",
            "Owner: odoo\n",
            "Stars: 36919\n",
            "Repository: https://github.com/odoo/odoo\n",
            "Description: Odoo. Open Source Apps To Grow Your Business.\n",
            "Name: Open-Assistant\n",
            "Owner: LAION-AI\n",
            "Stars: 36917\n",
            "Repository: https://github.com/LAION-AI/Open-Assistant\n",
            "Description: OpenAssistant is a chat-based assistant that understands tasks, can interact with third-party systems, and retrieve information dynamically to do so.\n",
            "Name: interview_internal_reference\n",
            "Owner: 0voice\n",
            "Stars: 36483\n",
            "Repository: https://github.com/0voice/interview_internal_reference\n",
            "Description: 2023年最新总结，阿里，腾讯，百度，美团，头条等技术面试题目，以及答案，专家出题人分析汇总。\n",
            "Name: TaskMatrix\n",
            "Owner: chenfei-wu\n",
            "Stars: 34534\n",
            "Repository: https://github.com/chenfei-wu/TaskMatrix\n",
            "Description: None\n",
            "Name: streamlit\n",
            "Owner: streamlit\n",
            "Stars: 34133\n",
            "Repository: https://github.com/streamlit/streamlit\n",
            "Description: Streamlit — A faster way to build and share data apps.\n",
            "Name: shadowsocks\n",
            "Owner: shadowsocks\n",
            "Stars: 33540\n",
            "Repository: https://github.com/shadowsocks/shadowsocks\n",
            "Description: None\n",
            "Name: jieba\n",
            "Owner: fxsjy\n",
            "Stars: 32976\n",
            "Repository: https://github.com/fxsjy/jieba\n",
            "Description: 结巴中文分词\n",
            "Name: ccxt\n",
            "Owner: ccxt\n",
            "Stars: 32270\n",
            "Repository: https://github.com/ccxt/ccxt\n",
            "Description: A JavaScript / TypeScript / Python / C# / PHP cryptocurrency trading API with support for more than 100 bitcoin/altcoin exchanges\n",
            "Name: pytorch-tutorial\n",
            "Owner: yunjey\n",
            "Stars: 29704\n",
            "Repository: https://github.com/yunjey/pytorch-tutorial\n",
            "Description: PyTorch Tutorial for Deep Learning Researchers\n",
            "Name: spaCy\n",
            "Owner: explosion\n",
            "Stars: 29515\n",
            "Repository: https://github.com/explosion/spaCy\n",
            "Description: 💫 Industrial-strength Natural Language Processing (NLP) in Python\n",
            "Name: ChatTTS\n",
            "Owner: 2noise\n",
            "Stars: 29462\n",
            "Repository: https://github.com/2noise/ChatTTS\n",
            "Description: A generative speech model for daily dialogue.\n",
            "Name: stanford_alpaca\n",
            "Owner: tatsu-lab\n",
            "Stars: 29280\n",
            "Repository: https://github.com/tatsu-lab/stanford_alpaca\n",
            "Description: Code and documentation to train Stanford's Alpaca models, and generate the data.\n",
            "Name: interactive-coding-challenges\n",
            "Owner: donnemartin\n",
            "Stars: 29278\n",
            "Repository: https://github.com/donnemartin/interactive-coding-challenges\n",
            "Description: 120+ interactive Python coding interview challenges (algorithms and data structures).  Includes Anki flashcards.\n",
            "Name: LLaMA-Factory\n",
            "Owner: hiyouga\n",
            "Stars: 29262\n",
            "Repository: https://github.com/hiyouga/LLaMA-Factory\n",
            "Description: Efficiently Fine-Tune 100+ LLMs in WebUI (ACL 2024)\n",
            "Name: OpenBB\n",
            "Owner: OpenBB-finance\n",
            "Stars: 28435\n",
            "Repository: https://github.com/OpenBB-finance/OpenBB\n",
            "Description: Investment Research for Everyone, Everywhere.\n"
          ]
        }
      ]
    },
    {
      "cell_type": "markdown",
      "source": [
        "Check GitHub's API Rate Limit:\n",
        "https://api.github.com/rate_limit"
      ],
      "metadata": {
        "id": "mQFXCDthStdh"
      }
    },
    {
      "cell_type": "markdown",
      "source": [
        "# Visualizing Repositories Using Plotly"
      ],
      "metadata": {
        "id": "rEP8g_4y3SpL"
      }
    },
    {
      "cell_type": "code",
      "source": [
        "from plotly.graph_objs import Bar\n",
        "from plotly import offline\n",
        "\n",
        "# Make an API call and store the response.\n",
        "url = 'https://api.github.com/search/repositories?q=language:python&sort=stars'\n",
        "headers = {'Accept': 'application/vnd.github.v3+json'}\n",
        "r = requests.get(url, headers=headers)\n",
        "print(f\"Status code: {r.status_code}\")\n",
        "\n",
        "# Process results.\n",
        "response_dict = r.json()\n",
        "repo_dicts = response_dict['items']\n",
        "repo_names, stars = [], []\n",
        "for repo_dict in repo_dicts:\n",
        "    repo_names.append(repo_dict['name'])\n",
        "    stars.append(repo_dict['stargazers_count'])\n",
        "\n",
        "    # Make visualization\n",
        "    data = [{\n",
        "        'type': 'bar',\n",
        "        'x': repo_names,\n",
        "        'y': stars}]\n",
        "\n",
        "    my_layout = {\n",
        "        'title': 'Most-Starred Python Projects on GitHub',\n",
        "        'xaxis': {'title': 'Repository'},\n",
        "        'yaxis': {'title': 'Stars'},\n",
        "    }\n",
        "    fig = {'data': data, 'layout': my_layout}\n",
        "    offline.plot(fig, filename='python_repos.html')"
      ],
      "metadata": {
        "colab": {
          "base_uri": "https://localhost:8080/"
        },
        "id": "yoX8GmUL3Wrh",
        "outputId": "74d7fd7d-1da6-40f9-b36e-fad5ce228a65"
      },
      "execution_count": null,
      "outputs": [
        {
          "output_type": "stream",
          "name": "stdout",
          "text": [
            "Status code: 200\n"
          ]
        }
      ]
    },
    {
      "cell_type": "markdown",
      "source": [
        "# Refining Plotly Charts"
      ],
      "metadata": {
        "id": "1cjWxV9x41eM"
      }
    },
    {
      "cell_type": "code",
      "source": [
        "data = [{\n",
        "        'type': 'bar',\n",
        "        'x': repo_names,\n",
        "        'y': stars,\n",
        "        'marker': {\n",
        "            'color': 'rgb(60, 100, 150)',\n",
        "            'line': {'width': 1.5, 'color': 'rgb(25, 25, 25)'}\n",
        "        },\n",
        "        'opacity': 0.6,\n",
        "    }]\n",
        "\n",
        "my_layout =  {\n",
        "        'title': 'Most-Starred Python Projects on GitHub',\n",
        "        'titlefont': {'size': 28},\n",
        "        'xaxis': {\n",
        "            'title': 'Repository',\n",
        "            'titlefont': {'size': 24},\n",
        "            'tickfont': {'size': 14},\n",
        "        },\n",
        "        'yaxis': {\n",
        "            'title': 'Stars',\n",
        "            'titlefont': {'size': 24},\n",
        "            'tickfont': {'size': 14},\n",
        "        },\n",
        "        }\n",
        "\n",
        "fig = {'data': data, 'layout': my_layout}\n",
        "offline.plot(fig, filename='python_repos.html')"
      ],
      "metadata": {
        "colab": {
          "base_uri": "https://localhost:8080/",
          "height": 35
        },
        "id": "fTrogHIg40Xa",
        "outputId": "14de7115-f0b5-45e3-8614-9b82853a7791"
      },
      "execution_count": null,
      "outputs": [
        {
          "output_type": "execute_result",
          "data": {
            "text/plain": [
              "'python_repos.html'"
            ],
            "application/vnd.google.colaboratory.intrinsic+json": {
              "type": "string"
            }
          },
          "metadata": {},
          "execution_count": 7
        }
      ]
    },
    {
      "cell_type": "code",
      "source": [
        "# Process results.\n",
        "response_dict = r.json()\n",
        "repo_dicts = response_dict['items']\n",
        "repo_names, stars, labels = [], [], []\n",
        "for repo_dict in repo_dicts:\n",
        "    repo_names.append(repo_dict['name'])\n",
        "    stars.append(repo_dict['stargazers_count'])\n",
        "\n",
        "    # Build hover text.\n",
        "    owner = repo_dict['owner']['login']\n",
        "    description = repo_dict['description']\n",
        "    label = f\"{owner}<br />{description}\"\n",
        "    labels.append(label)\n",
        "\n",
        "    # Make visualization\n",
        "    data = [{\n",
        "        'type': 'bar',\n",
        "        'x': repo_names,\n",
        "        'y': stars,\n",
        "        'hovertext': labels,\n",
        "        'marker' :{\n",
        "            'color': 'rgb(60, 100, 150)',\n",
        "            'line': {'width': 1.5, 'color': 'rgb(25, 25, 25)'}\n",
        "        },\n",
        "        'opacity': 0.6,\n",
        "    }]\n"
      ],
      "metadata": {
        "id": "pr8G7yPa6RLN"
      },
      "execution_count": null,
      "outputs": []
    },
    {
      "cell_type": "markdown",
      "source": [
        "# Adding Clicakable Links to Our Graph"
      ],
      "metadata": {
        "id": "rhKbLV7h7rPP"
      }
    },
    {
      "cell_type": "code",
      "source": [
        "# Process Results.\n",
        "response_dict = r.json()\n",
        "repo_dicts = response_dict['items']\n",
        "repo_links, stars, labels = [], [], []\n",
        "for repo_dict in repo_dicts:\n",
        "    repo_name = repo_dict['name']\n",
        "    repo_url = repo_dict['html_url']\n",
        "    repo_link = f\"<a href=;{repo_url}>{repo_name}</a>\"\n",
        "    repo_links.append(repo_link)\n",
        "    stars.append(repo_dict['stargazers_count'])\n"
      ],
      "metadata": {
        "id": "6EIiCPHj7qaG"
      },
      "execution_count": null,
      "outputs": []
    },
    {
      "cell_type": "code",
      "source": [
        "# Make a visualization\n",
        "data = [{\n",
        "    'type': 'bar',\n",
        "    'x': repo_links,\n",
        "    'y': stars,\n",
        "}]\n",
        "\n",
        "fig = {'data': data, 'layout': my_layout}\n",
        "offline.plot(fig, filename='python_repos.html')"
      ],
      "metadata": {
        "colab": {
          "base_uri": "https://localhost:8080/",
          "height": 35
        },
        "id": "xow_RLsu8Jqo",
        "outputId": "929eb5b4-cb81-40cd-8bd1-77bfd854ff60"
      },
      "execution_count": null,
      "outputs": [
        {
          "output_type": "execute_result",
          "data": {
            "text/plain": [
              "'python_repos.html'"
            ],
            "application/vnd.google.colaboratory.intrinsic+json": {
              "type": "string"
            }
          },
          "metadata": {},
          "execution_count": 10
        }
      ]
    },
    {
      "cell_type": "markdown",
      "source": [
        "# Hacker News API"
      ],
      "metadata": {
        "id": "PwBSDfLsyttb"
      }
    },
    {
      "cell_type": "code",
      "source": [
        "import requests\n",
        "import json\n",
        "import os\n",
        "\n",
        "\n",
        "# Make an API call, and store the response\n",
        "url = 'https://hacker-news.firebaseio.com/v0/item/19155826.json'\n",
        "r = requests.get(url)\n",
        "print(f\"Status code: {r.status_code}\")\n",
        "\n",
        "# Explore the structure of the data\n",
        "response_dict = r.json()\n",
        "readable_file = 'data/readable_hn_data.json'\n",
        "os.makedirs(os.path.dirname(readable_file), exist_ok=True)\n",
        "with open(readable_file, 'w') as f:\n",
        "    json.dump(response_dict, f, indent=4)\n"
      ],
      "metadata": {
        "colab": {
          "base_uri": "https://localhost:8080/"
        },
        "id": "L57xXiALysiJ",
        "outputId": "f5cff90b-cab2-4c57-bfcc-4d7f5e799392"
      },
      "execution_count": null,
      "outputs": [
        {
          "output_type": "stream",
          "name": "stdout",
          "text": [
            "Status code: 200\n"
          ]
        }
      ]
    },
    {
      "cell_type": "code",
      "source": [
        "{\n",
        "    \"by\" : \"jimktrains2\",\n",
        "    \"descendants\" : 220,\n",
        "    \"id\" : 19155826,\n",
        "    \"kids\" : [\n",
        "        19156572,\n",
        "        19158857,\n",
        "    ],\n",
        "    \"score\" : 772,\n",
        "    \"time\" : 1550085414,\n",
        "    \"title\" : \"Nasa's Mars Rover Opportunity Concludes a 15-Year Mission\",\n",
        "    \"type\" : \"story\",\n",
        "    \"url\" : \"https://www.nytimes.com/.../mars-opportunity-rover-dead.html\"\n",
        "}"
      ],
      "metadata": {
        "colab": {
          "base_uri": "https://localhost:8080/"
        },
        "id": "SJTNyXCg6P90",
        "outputId": "08b85273-305d-4303-9596-4543b7f3456b"
      },
      "execution_count": null,
      "outputs": [
        {
          "output_type": "execute_result",
          "data": {
            "text/plain": [
              "{'by': 'jimktrains2',\n",
              " 'descendants': 220,\n",
              " 'id': 19155826,\n",
              " 'kids': [19156572, 19158857],\n",
              " 'score': 772,\n",
              " 'time': 1550085414,\n",
              " 'title': \"Nasa's Mars Rover Opportunity Concludes a 15-Year Mission\",\n",
              " 'type': 'story',\n",
              " 'url': 'https://www.nytimes.com/.../mars-opportunity-rover-dead.html'}"
            ]
          },
          "metadata": {},
          "execution_count": 12
        }
      ]
    },
    {
      "cell_type": "markdown",
      "source": [
        "Hacker News Summarize All Articles on Front Page"
      ],
      "metadata": {
        "id": "3ccv-pbE62yb"
      }
    },
    {
      "cell_type": "code",
      "source": [
        "from operator import itemgetter\n",
        "import requests\n",
        "\n",
        "# Make an API call and store the response.\n",
        "url = 'https://hacker-news.firebaseio.com/v0/topstories.json'\n",
        "r = requests.get(url)\n",
        "print(f\"Status code: {r.status_code}\")\n",
        "\n",
        "# Process information about each submission.\n",
        "submission_ids = r.json()\n",
        "submission_dicts = []\n",
        "for submission_id in submission_ids[:30]:\n",
        "  # MAKE A SEPARATE API CALL FOR EACH SUBMISSION\n",
        "  url = f\"https://hacker-news.firebaseio.com/v0/item/{submission_id}.json\"\n",
        "  r = requests.get(url)\n",
        "  print(f\"id: {submission_id}\\tstatus: {r.status_code}\")\n",
        "  response_dict = r.json()\n",
        "\n",
        "  # Build a dictionary for each article.\n",
        "submission_dict = {\n",
        "    'title': response_dict['title'],\n",
        "    'hn_link': f\"http://news.ycombinator.com/item?id={submission_id}\",\n",
        "    'comments': response_dict['descendants'],\n",
        "    }\n",
        "submission_dicts.append(submission_dict)\n",
        "\n",
        "submission_dicts = sorted(submission_dicts, key=itemgetter('comments'),\n",
        "                          reverse=True)\n",
        "\n",
        "for submission_dict in submission_dicts:\n",
        "    print(f\"\\nTitle: {submission_dict['title']}\")\n",
        "    print(f\"Discussion link: {submission_dict['hn_link']}\")\n",
        "    print(f\"Comments: {submission_dict['comments']}\")\n"
      ],
      "metadata": {
        "id": "e130_8iC67Ck",
        "colab": {
          "base_uri": "https://localhost:8080/"
        },
        "outputId": "1d5a1e08-8892-4ad2-872a-b7ed7f235161"
      },
      "execution_count": null,
      "outputs": [
        {
          "output_type": "stream",
          "name": "stdout",
          "text": [
            "Status code: 200\n",
            "id: 41299211\tstatus: 200\n",
            "id: 41300368\tstatus: 200\n",
            "id: 41299148\tstatus: 200\n",
            "id: 41297609\tstatus: 200\n",
            "id: 41300685\tstatus: 200\n",
            "id: 41298794\tstatus: 200\n",
            "id: 41299594\tstatus: 200\n",
            "id: 41296481\tstatus: 200\n",
            "id: 41298899\tstatus: 200\n",
            "id: 41299194\tstatus: 200\n",
            "id: 41294067\tstatus: 200\n",
            "id: 41291219\tstatus: 200\n",
            "id: 41298789\tstatus: 200\n",
            "id: 41253850\tstatus: 200\n",
            "id: 41299954\tstatus: 200\n",
            "id: 41282798\tstatus: 200\n",
            "id: 41291613\tstatus: 200\n",
            "id: 41262010\tstatus: 200\n",
            "id: 41291700\tstatus: 200\n",
            "id: 41282157\tstatus: 200\n",
            "id: 41293929\tstatus: 200\n",
            "id: 41294202\tstatus: 200\n",
            "id: 41293901\tstatus: 200\n",
            "id: 41296274\tstatus: 200\n",
            "id: 41295390\tstatus: 200\n",
            "id: 41300448\tstatus: 200\n",
            "id: 41298969\tstatus: 200\n",
            "id: 41293847\tstatus: 200\n",
            "id: 41293767\tstatus: 200\n",
            "id: 41298819\tstatus: 200\n",
            "\n",
            "Title: My Auschwitz vacation\n",
            "Discussion link: http://news.ycombinator.com/item?id=41298819\n",
            "Comments: 0\n"
          ]
        }
      ]
    },
    {
      "cell_type": "markdown",
      "source": [
        "Not sure how to print all 30, but here is the first one and the API calls are complete, so for now I am calling this finished!"
      ],
      "metadata": {
        "id": "yZH-QkI1WU6l"
      }
    }
  ]
}
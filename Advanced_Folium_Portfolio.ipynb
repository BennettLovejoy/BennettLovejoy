{
  "nbformat": 4,
  "nbformat_minor": 0,
  "metadata": {
    "colab": {
      "provenance": [],
      "mount_file_id": "1k84M9llcNzPx5_X32FRkZWmd_RU7ablY",
      "authorship_tag": "ABX9TyOgyY8SqRTdoxS48xPViRRQ",
      "include_colab_link": true
    },
    "kernelspec": {
      "name": "python3",
      "display_name": "Python 3"
    },
    "language_info": {
      "name": "python"
    }
  },
  "cells": [
    {
      "cell_type": "markdown",
      "metadata": {
        "id": "view-in-github",
        "colab_type": "text"
      },
      "source": [
        "<a href=\"https://colab.research.google.com/github/BennettLovejoy/Portfolio/blob/main/Advanced_Folium_Portfolio.ipynb\" target=\"_parent\"><img src=\"https://colab.research.google.com/assets/colab-badge.svg\" alt=\"Open In Colab\"/></a>"
      ]
    },
    {
      "cell_type": "code",
      "source": [
        "import requests\n",
        "import json\n",
        "import prettytable\n",
        "headers = {'Content-type': 'application/json'}\n",
        "data = json.dumps({\"seriesid\": ['CUUR0000SA0','SUUR0000SA0'],\"startyear\":\"2011\", \"endyear\":\"2014\"})\n",
        "p = requests.post('https://api.bls.gov/publicAPI/v2/timeseries/data/', data=data, headers=headers)\n",
        "json_data = json.loads(p.text)\n",
        "for series in json_data['Results']['series']:\n",
        "    x=prettytable.PrettyTable([\"series id\",\"year\",\"period\",\"value\",\"footnotes\"])\n",
        "    seriesId = series['seriesID']\n",
        "    for item in series['data']:\n",
        "        year = item['year']\n",
        "        period = item['period']\n",
        "        value = item['value']\n",
        "        footnotes=\"\"\n",
        "        for footnote in item['footnotes']:\n",
        "            if footnote:\n",
        "                footnotes = footnotes + footnote['text'] + ','\n",
        "        if 'M01' <= period <= 'M12':\n",
        "            x.add_row([seriesId,year,period,value,footnotes[0:-1]])\n",
        "    output = open(seriesId + '.txt','w')\n",
        "    output.write (x.get_string())\n",
        "    output.close()"
      ],
      "metadata": {
        "id": "yHbgYOf47jOH"
      },
      "execution_count": 1,
      "outputs": []
    },
    {
      "cell_type": "code",
      "source": [
        "# mount google drive\n",
        "from google.colab import drive\n",
        "drive.mount('/content/drive')"
      ],
      "metadata": {
        "colab": {
          "base_uri": "https://localhost:8080/"
        },
        "id": "lXvoI8G95VMQ",
        "outputId": "4bbb9bcc-3c3f-4f49-98ec-6092ee3dc721"
      },
      "execution_count": 2,
      "outputs": [
        {
          "output_type": "stream",
          "name": "stdout",
          "text": [
            "Drive already mounted at /content/drive; to attempt to forcibly remount, call drive.mount(\"/content/drive\", force_remount=True).\n"
          ]
        }
      ]
    },
    {
      "cell_type": "code",
      "execution_count": 3,
      "metadata": {
        "colab": {
          "base_uri": "https://localhost:8080/",
          "height": 807
        },
        "id": "3GBbE85T4UDB",
        "outputId": "217e7392-5ed8-426b-9aff-40f010ebfa6a"
      },
      "outputs": [
        {
          "output_type": "execute_result",
          "data": {
            "text/plain": [
              "<folium.folium.Map at 0x7dbee6cd6380>"
            ],
            "text/html": [
              "<div style=\"width:100%;\"><div style=\"position:relative;width:100%;height:0;padding-bottom:60%;\"><span style=\"color:#565656\">Make this Notebook Trusted to load map: File -> Trust Notebook</span><iframe srcdoc=\"&lt;!DOCTYPE html&gt;\n",
              "&lt;html&gt;\n",
              "&lt;head&gt;\n",
              "    \n",
              "    &lt;meta http-equiv=&quot;content-type&quot; content=&quot;text/html; charset=UTF-8&quot; /&gt;\n",
              "    \n",
              "        &lt;script&gt;\n",
              "            L_NO_TOUCH = false;\n",
              "            L_DISABLE_3D = false;\n",
              "        &lt;/script&gt;\n",
              "    \n",
              "    &lt;style&gt;html, body {width: 100%;height: 100%;margin: 0;padding: 0;}&lt;/style&gt;\n",
              "    &lt;style&gt;#map {position:absolute;top:0;bottom:0;right:0;left:0;}&lt;/style&gt;\n",
              "    &lt;script src=&quot;https://cdn.jsdelivr.net/npm/leaflet@1.9.3/dist/leaflet.js&quot;&gt;&lt;/script&gt;\n",
              "    &lt;script src=&quot;https://code.jquery.com/jquery-3.7.1.min.js&quot;&gt;&lt;/script&gt;\n",
              "    &lt;script src=&quot;https://cdn.jsdelivr.net/npm/bootstrap@5.2.2/dist/js/bootstrap.bundle.min.js&quot;&gt;&lt;/script&gt;\n",
              "    &lt;script src=&quot;https://cdnjs.cloudflare.com/ajax/libs/Leaflet.awesome-markers/2.0.2/leaflet.awesome-markers.js&quot;&gt;&lt;/script&gt;\n",
              "    &lt;link rel=&quot;stylesheet&quot; href=&quot;https://cdn.jsdelivr.net/npm/leaflet@1.9.3/dist/leaflet.css&quot;/&gt;\n",
              "    &lt;link rel=&quot;stylesheet&quot; href=&quot;https://cdn.jsdelivr.net/npm/bootstrap@5.2.2/dist/css/bootstrap.min.css&quot;/&gt;\n",
              "    &lt;link rel=&quot;stylesheet&quot; href=&quot;https://netdna.bootstrapcdn.com/bootstrap/3.0.0/css/bootstrap-glyphicons.css&quot;/&gt;\n",
              "    &lt;link rel=&quot;stylesheet&quot; href=&quot;https://cdn.jsdelivr.net/npm/@fortawesome/fontawesome-free@6.2.0/css/all.min.css&quot;/&gt;\n",
              "    &lt;link rel=&quot;stylesheet&quot; href=&quot;https://cdnjs.cloudflare.com/ajax/libs/Leaflet.awesome-markers/2.0.2/leaflet.awesome-markers.css&quot;/&gt;\n",
              "    &lt;link rel=&quot;stylesheet&quot; href=&quot;https://cdn.jsdelivr.net/gh/python-visualization/folium/folium/templates/leaflet.awesome.rotate.min.css&quot;/&gt;\n",
              "    \n",
              "            &lt;meta name=&quot;viewport&quot; content=&quot;width=device-width,\n",
              "                initial-scale=1.0, maximum-scale=1.0, user-scalable=no&quot; /&gt;\n",
              "            &lt;style&gt;\n",
              "                #map_33093dd58168983d6695c3b857d898d5 {\n",
              "                    position: relative;\n",
              "                    width: 100.0%;\n",
              "                    height: 100.0%;\n",
              "                    left: 0.0%;\n",
              "                    top: 0.0%;\n",
              "                }\n",
              "                .leaflet-container { font-size: 1rem; }\n",
              "            &lt;/style&gt;\n",
              "        \n",
              "&lt;/head&gt;\n",
              "&lt;body&gt;\n",
              "    \n",
              "    \n",
              "            &lt;div class=&quot;folium-map&quot; id=&quot;map_33093dd58168983d6695c3b857d898d5&quot; &gt;&lt;/div&gt;\n",
              "        \n",
              "&lt;/body&gt;\n",
              "&lt;script&gt;\n",
              "    \n",
              "    \n",
              "            var map_33093dd58168983d6695c3b857d898d5 = L.map(\n",
              "                &quot;map_33093dd58168983d6695c3b857d898d5&quot;,\n",
              "                {\n",
              "                    center: [40.0675676, -83.015471],\n",
              "                    crs: L.CRS.EPSG3857,\n",
              "                    zoom: 10,\n",
              "                    zoomControl: true,\n",
              "                    preferCanvas: false,\n",
              "                }\n",
              "            );\n",
              "\n",
              "            \n",
              "\n",
              "        \n",
              "    \n",
              "            var tile_layer_c7204c096b8cbc82d2fd8a5029f6ca00 = L.tileLayer(\n",
              "                &quot;https://{s}.basemaps.cartocdn.com/light_all/{z}/{x}/{y}{r}.png&quot;,\n",
              "                {&quot;attribution&quot;: &quot;\\u0026copy; \\u003ca href=\\&quot;https://www.openstreetmap.org/copyright\\&quot;\\u003eOpenStreetMap\\u003c/a\\u003e contributors \\u0026copy; \\u003ca href=\\&quot;https://carto.com/attributions\\&quot;\\u003eCARTO\\u003c/a\\u003e&quot;, &quot;detectRetina&quot;: false, &quot;maxNativeZoom&quot;: 20, &quot;maxZoom&quot;: 20, &quot;minZoom&quot;: 0, &quot;noWrap&quot;: false, &quot;opacity&quot;: 1, &quot;subdomains&quot;: &quot;abcd&quot;, &quot;tms&quot;: false}\n",
              "            );\n",
              "        \n",
              "    \n",
              "            tile_layer_c7204c096b8cbc82d2fd8a5029f6ca00.addTo(map_33093dd58168983d6695c3b857d898d5);\n",
              "        \n",
              "&lt;/script&gt;\n",
              "&lt;/html&gt;\" style=\"position:absolute;width:100%;height:100%;left:0;top:0;border:none !important;\" allowfullscreen webkitallowfullscreen mozallowfullscreen></iframe></div></div>"
            ]
          },
          "metadata": {},
          "execution_count": 3
        }
      ],
      "source": [
        "import folium\n",
        "\n",
        "m = folium.Map(location=(40.0675676,-83.015471), tiles=\"cartodb positron\")\n",
        "m\n",
        "#m.save(\"index.html\")\n"
      ]
    },
    {
      "cell_type": "code",
      "source": [
        "m = folium.Map([40.0675676,-83.015471], zoom_start=12, tiles=\"cartodb positron\")\n",
        "\n",
        "# Write function to get coordinates, name, relevant data from each school in XYZ dataset\n",
        "\n",
        "folium.Marker(\n",
        "    location=[40.0675676,-83.015471],\n",
        "    tooltip=\"Click me!\",\n",
        "    popup=\"School Name\",\n",
        "    icon=folium.Icon(icon=\"cloud\"),\n",
        ").add_to(m)\n",
        "\n",
        "folium.Marker(\n",
        "    location=[40.0675676,-83.015471],\n",
        "    tooltip=\"Click me!\",\n",
        "    popup=\"Current Location\",\n",
        "    icon=folium.Icon(color=\"green\"),\n",
        ").add_to(m)\n",
        "\n",
        "m"
      ],
      "metadata": {
        "colab": {
          "base_uri": "https://localhost:8080/",
          "height": 807
        },
        "id": "I2HhEXSg5C9E",
        "outputId": "f28baf01-af47-408c-a25f-ab14c0a3ccbb"
      },
      "execution_count": 4,
      "outputs": [
        {
          "output_type": "execute_result",
          "data": {
            "text/plain": [
              "<folium.folium.Map at 0x7dbeb73c7c10>"
            ],
            "text/html": [
              "<div style=\"width:100%;\"><div style=\"position:relative;width:100%;height:0;padding-bottom:60%;\"><span style=\"color:#565656\">Make this Notebook Trusted to load map: File -> Trust Notebook</span><iframe srcdoc=\"&lt;!DOCTYPE html&gt;\n",
              "&lt;html&gt;\n",
              "&lt;head&gt;\n",
              "    \n",
              "    &lt;meta http-equiv=&quot;content-type&quot; content=&quot;text/html; charset=UTF-8&quot; /&gt;\n",
              "    \n",
              "        &lt;script&gt;\n",
              "            L_NO_TOUCH = false;\n",
              "            L_DISABLE_3D = false;\n",
              "        &lt;/script&gt;\n",
              "    \n",
              "    &lt;style&gt;html, body {width: 100%;height: 100%;margin: 0;padding: 0;}&lt;/style&gt;\n",
              "    &lt;style&gt;#map {position:absolute;top:0;bottom:0;right:0;left:0;}&lt;/style&gt;\n",
              "    &lt;script src=&quot;https://cdn.jsdelivr.net/npm/leaflet@1.9.3/dist/leaflet.js&quot;&gt;&lt;/script&gt;\n",
              "    &lt;script src=&quot;https://code.jquery.com/jquery-3.7.1.min.js&quot;&gt;&lt;/script&gt;\n",
              "    &lt;script src=&quot;https://cdn.jsdelivr.net/npm/bootstrap@5.2.2/dist/js/bootstrap.bundle.min.js&quot;&gt;&lt;/script&gt;\n",
              "    &lt;script src=&quot;https://cdnjs.cloudflare.com/ajax/libs/Leaflet.awesome-markers/2.0.2/leaflet.awesome-markers.js&quot;&gt;&lt;/script&gt;\n",
              "    &lt;link rel=&quot;stylesheet&quot; href=&quot;https://cdn.jsdelivr.net/npm/leaflet@1.9.3/dist/leaflet.css&quot;/&gt;\n",
              "    &lt;link rel=&quot;stylesheet&quot; href=&quot;https://cdn.jsdelivr.net/npm/bootstrap@5.2.2/dist/css/bootstrap.min.css&quot;/&gt;\n",
              "    &lt;link rel=&quot;stylesheet&quot; href=&quot;https://netdna.bootstrapcdn.com/bootstrap/3.0.0/css/bootstrap-glyphicons.css&quot;/&gt;\n",
              "    &lt;link rel=&quot;stylesheet&quot; href=&quot;https://cdn.jsdelivr.net/npm/@fortawesome/fontawesome-free@6.2.0/css/all.min.css&quot;/&gt;\n",
              "    &lt;link rel=&quot;stylesheet&quot; href=&quot;https://cdnjs.cloudflare.com/ajax/libs/Leaflet.awesome-markers/2.0.2/leaflet.awesome-markers.css&quot;/&gt;\n",
              "    &lt;link rel=&quot;stylesheet&quot; href=&quot;https://cdn.jsdelivr.net/gh/python-visualization/folium/folium/templates/leaflet.awesome.rotate.min.css&quot;/&gt;\n",
              "    \n",
              "            &lt;meta name=&quot;viewport&quot; content=&quot;width=device-width,\n",
              "                initial-scale=1.0, maximum-scale=1.0, user-scalable=no&quot; /&gt;\n",
              "            &lt;style&gt;\n",
              "                #map_87dcd9a98cb534e5ada07bdfad12b628 {\n",
              "                    position: relative;\n",
              "                    width: 100.0%;\n",
              "                    height: 100.0%;\n",
              "                    left: 0.0%;\n",
              "                    top: 0.0%;\n",
              "                }\n",
              "                .leaflet-container { font-size: 1rem; }\n",
              "            &lt;/style&gt;\n",
              "        \n",
              "&lt;/head&gt;\n",
              "&lt;body&gt;\n",
              "    \n",
              "    \n",
              "            &lt;div class=&quot;folium-map&quot; id=&quot;map_87dcd9a98cb534e5ada07bdfad12b628&quot; &gt;&lt;/div&gt;\n",
              "        \n",
              "&lt;/body&gt;\n",
              "&lt;script&gt;\n",
              "    \n",
              "    \n",
              "            var map_87dcd9a98cb534e5ada07bdfad12b628 = L.map(\n",
              "                &quot;map_87dcd9a98cb534e5ada07bdfad12b628&quot;,\n",
              "                {\n",
              "                    center: [40.0675676, -83.015471],\n",
              "                    crs: L.CRS.EPSG3857,\n",
              "                    zoom: 12,\n",
              "                    zoomControl: true,\n",
              "                    preferCanvas: false,\n",
              "                }\n",
              "            );\n",
              "\n",
              "            \n",
              "\n",
              "        \n",
              "    \n",
              "            var tile_layer_68476bb2886f1bde6373c315490e4155 = L.tileLayer(\n",
              "                &quot;https://{s}.basemaps.cartocdn.com/light_all/{z}/{x}/{y}{r}.png&quot;,\n",
              "                {&quot;attribution&quot;: &quot;\\u0026copy; \\u003ca href=\\&quot;https://www.openstreetmap.org/copyright\\&quot;\\u003eOpenStreetMap\\u003c/a\\u003e contributors \\u0026copy; \\u003ca href=\\&quot;https://carto.com/attributions\\&quot;\\u003eCARTO\\u003c/a\\u003e&quot;, &quot;detectRetina&quot;: false, &quot;maxNativeZoom&quot;: 20, &quot;maxZoom&quot;: 20, &quot;minZoom&quot;: 0, &quot;noWrap&quot;: false, &quot;opacity&quot;: 1, &quot;subdomains&quot;: &quot;abcd&quot;, &quot;tms&quot;: false}\n",
              "            );\n",
              "        \n",
              "    \n",
              "            tile_layer_68476bb2886f1bde6373c315490e4155.addTo(map_87dcd9a98cb534e5ada07bdfad12b628);\n",
              "        \n",
              "    \n",
              "            var marker_722c1371a6b5117e69a7b755771e2b45 = L.marker(\n",
              "                [40.0675676, -83.015471],\n",
              "                {}\n",
              "            ).addTo(map_87dcd9a98cb534e5ada07bdfad12b628);\n",
              "        \n",
              "    \n",
              "            var icon_9b10ebe0e622d3ff8f4fad9555c778aa = L.AwesomeMarkers.icon(\n",
              "                {&quot;extraClasses&quot;: &quot;fa-rotate-0&quot;, &quot;icon&quot;: &quot;cloud&quot;, &quot;iconColor&quot;: &quot;white&quot;, &quot;markerColor&quot;: &quot;blue&quot;, &quot;prefix&quot;: &quot;glyphicon&quot;}\n",
              "            );\n",
              "            marker_722c1371a6b5117e69a7b755771e2b45.setIcon(icon_9b10ebe0e622d3ff8f4fad9555c778aa);\n",
              "        \n",
              "    \n",
              "        var popup_2f60c8cd9ec4803241cfbf82e4725fe5 = L.popup({&quot;maxWidth&quot;: &quot;100%&quot;});\n",
              "\n",
              "        \n",
              "            \n",
              "                var html_b3e140c1585c0fac02f9cc021874443a = $(`&lt;div id=&quot;html_b3e140c1585c0fac02f9cc021874443a&quot; style=&quot;width: 100.0%; height: 100.0%;&quot;&gt;School Name&lt;/div&gt;`)[0];\n",
              "                popup_2f60c8cd9ec4803241cfbf82e4725fe5.setContent(html_b3e140c1585c0fac02f9cc021874443a);\n",
              "            \n",
              "        \n",
              "\n",
              "        marker_722c1371a6b5117e69a7b755771e2b45.bindPopup(popup_2f60c8cd9ec4803241cfbf82e4725fe5)\n",
              "        ;\n",
              "\n",
              "        \n",
              "    \n",
              "    \n",
              "            marker_722c1371a6b5117e69a7b755771e2b45.bindTooltip(\n",
              "                `&lt;div&gt;\n",
              "                     Click me!\n",
              "                 &lt;/div&gt;`,\n",
              "                {&quot;sticky&quot;: true}\n",
              "            );\n",
              "        \n",
              "    \n",
              "            var marker_62213ae6a9fb8659376757278a7744c1 = L.marker(\n",
              "                [40.0675676, -83.015471],\n",
              "                {}\n",
              "            ).addTo(map_87dcd9a98cb534e5ada07bdfad12b628);\n",
              "        \n",
              "    \n",
              "            var icon_c4d8f247ddcc144b7bb10b5cb58ac953 = L.AwesomeMarkers.icon(\n",
              "                {&quot;extraClasses&quot;: &quot;fa-rotate-0&quot;, &quot;icon&quot;: &quot;info-sign&quot;, &quot;iconColor&quot;: &quot;white&quot;, &quot;markerColor&quot;: &quot;green&quot;, &quot;prefix&quot;: &quot;glyphicon&quot;}\n",
              "            );\n",
              "            marker_62213ae6a9fb8659376757278a7744c1.setIcon(icon_c4d8f247ddcc144b7bb10b5cb58ac953);\n",
              "        \n",
              "    \n",
              "        var popup_fa51523d51e8e27ef1296d8485a4ca9d = L.popup({&quot;maxWidth&quot;: &quot;100%&quot;});\n",
              "\n",
              "        \n",
              "            \n",
              "                var html_133a5e128aef9f0481df7e2fc57217b3 = $(`&lt;div id=&quot;html_133a5e128aef9f0481df7e2fc57217b3&quot; style=&quot;width: 100.0%; height: 100.0%;&quot;&gt;Current Location&lt;/div&gt;`)[0];\n",
              "                popup_fa51523d51e8e27ef1296d8485a4ca9d.setContent(html_133a5e128aef9f0481df7e2fc57217b3);\n",
              "            \n",
              "        \n",
              "\n",
              "        marker_62213ae6a9fb8659376757278a7744c1.bindPopup(popup_fa51523d51e8e27ef1296d8485a4ca9d)\n",
              "        ;\n",
              "\n",
              "        \n",
              "    \n",
              "    \n",
              "            marker_62213ae6a9fb8659376757278a7744c1.bindTooltip(\n",
              "                `&lt;div&gt;\n",
              "                     Click me!\n",
              "                 &lt;/div&gt;`,\n",
              "                {&quot;sticky&quot;: true}\n",
              "            );\n",
              "        \n",
              "&lt;/script&gt;\n",
              "&lt;/html&gt;\" style=\"position:absolute;width:100%;height:100%;left:0;top:0;border:none !important;\" allowfullscreen webkitallowfullscreen mozallowfullscreen></iframe></div></div>"
            ]
          },
          "metadata": {},
          "execution_count": 4
        }
      ]
    },
    {
      "cell_type": "code",
      "source": [
        "#for i in all_coords:\n",
        "    #folium.Marker(i).add_to(m)\n"
      ],
      "metadata": {
        "id": "qBVXH8p1EiyR"
      },
      "execution_count": 5,
      "outputs": []
    },
    {
      "cell_type": "markdown",
      "source": [
        "### Bureau of Economic Analysis API Setup"
      ],
      "metadata": {
        "id": "nhCEJZw6uA3p"
      }
    },
    {
      "cell_type": "markdown",
      "source": [
        "[Bureau of Labor Statistics API Sample Python Code](https://www.bls.gov/developers/api_python.htm)"
      ],
      "metadata": {
        "id": "gjRJx_79IvBC"
      }
    },
    {
      "cell_type": "code",
      "source": [
        "!pip install bls"
      ],
      "metadata": {
        "colab": {
          "base_uri": "https://localhost:8080/"
        },
        "id": "Nh7xvUyOd0D8",
        "outputId": "3002de9e-4a45-4c87-b11f-1880bb3b6ef4"
      },
      "execution_count": null,
      "outputs": [
        {
          "output_type": "stream",
          "name": "stdout",
          "text": [
            "Collecting bls\n",
            "  Downloading bls-0.3.0-py3-none-any.whl.metadata (922 bytes)\n",
            "Requirement already satisfied: pandas in /usr/local/lib/python3.10/dist-packages (from bls) (2.1.4)\n",
            "Requirement already satisfied: requests in /usr/local/lib/python3.10/dist-packages (from bls) (2.32.3)\n",
            "Requirement already satisfied: numpy<2,>=1.22.4 in /usr/local/lib/python3.10/dist-packages (from pandas->bls) (1.26.4)\n",
            "Requirement already satisfied: python-dateutil>=2.8.2 in /usr/local/lib/python3.10/dist-packages (from pandas->bls) (2.8.2)\n",
            "Requirement already satisfied: pytz>=2020.1 in /usr/local/lib/python3.10/dist-packages (from pandas->bls) (2024.1)\n",
            "Requirement already satisfied: tzdata>=2022.1 in /usr/local/lib/python3.10/dist-packages (from pandas->bls) (2024.1)\n",
            "Requirement already satisfied: charset-normalizer<4,>=2 in /usr/local/lib/python3.10/dist-packages (from requests->bls) (3.3.2)\n",
            "Requirement already satisfied: idna<4,>=2.5 in /usr/local/lib/python3.10/dist-packages (from requests->bls) (3.8)\n",
            "Requirement already satisfied: urllib3<3,>=1.21.1 in /usr/local/lib/python3.10/dist-packages (from requests->bls) (2.0.7)\n",
            "Requirement already satisfied: certifi>=2017.4.17 in /usr/local/lib/python3.10/dist-packages (from requests->bls) (2024.7.4)\n",
            "Requirement already satisfied: six>=1.5 in /usr/local/lib/python3.10/dist-packages (from python-dateutil>=2.8.2->pandas->bls) (1.16.0)\n",
            "Downloading bls-0.3.0-py3-none-any.whl (3.3 kB)\n"
          ]
        }
      ]
    },
    {
      "cell_type": "code",
      "source": [
        "import requests\n",
        "import json\n",
        "import prettytable\n",
        "import bls"
      ],
      "metadata": {
        "id": "a1J-MZzMIuoy"
      },
      "execution_count": null,
      "outputs": []
    },
    {
      "cell_type": "markdown",
      "source": [
        "## U.S. Bureau of Labor Statistics (BLS) Application Programming Interface with Python: guided examples [website](https://www.bd-econ.com/blsapi.html)"
      ],
      "metadata": {
        "id": "vkL9BgdUeUWj"
      }
    },
    {
      "cell_type": "markdown",
      "source": [
        "v1"
      ],
      "metadata": {
        "id": "z1peCx8hg8bW"
      }
    },
    {
      "cell_type": "code",
      "source": [
        "# BLS API v1 url\n",
        "base_url = 'https://api.bls.gov/publicAPI/v1/timeseries/data/'"
      ],
      "metadata": {
        "id": "_PFvNaSWg-wB"
      },
      "execution_count": null,
      "outputs": []
    },
    {
      "cell_type": "code",
      "source": [
        "# BLS series id for the civilian labor force participation rate\n",
        "series = {'id': 'LNS11300000',\n",
        "          'name': 'Labor Force Participation Rate'}"
      ],
      "metadata": {
        "id": "vjuLZ0X_hA8b"
      },
      "execution_count": null,
      "outputs": []
    },
    {
      "cell_type": "code",
      "source": [
        "data_url = '{}{}'.format(base_url, series['id'])\n",
        "print(data_url)"
      ],
      "metadata": {
        "id": "dB-6iAskhEiX"
      },
      "execution_count": null,
      "outputs": []
    },
    {
      "cell_type": "code",
      "source": [
        "import requests\n",
        "\n",
        "r = requests.get(data_url).json()\n",
        "print('Status: ' + r['status'])"
      ],
      "metadata": {
        "id": "l5_XFZIHhGgW"
      },
      "execution_count": null,
      "outputs": []
    },
    {
      "cell_type": "code",
      "source": [
        "print(r.keys())"
      ],
      "metadata": {
        "id": "aSJQ3X3vhJzk"
      },
      "execution_count": null,
      "outputs": []
    },
    {
      "cell_type": "code",
      "source": [
        "r = r['Results']['series'][0]['data']\n",
        "print(r[0])"
      ],
      "metadata": {
        "id": "0xLrbl39hNCY"
      },
      "execution_count": null,
      "outputs": []
    },
    {
      "cell_type": "code",
      "source": [
        "import pandas as pd\n",
        "\n",
        "dates = ['{} {}'.format(i['period'], i['year']) for i in r]\n",
        "index = pd.to_datetime(dates)\n",
        "data = {series['id']: [float(i['value']) for i in r],\n",
        "        'footnotes': [i['footnotes'][0] for i in r]}\n",
        "\n",
        "df = pd.DataFrame(index=index, data=data).iloc[::-1]\n",
        "\n",
        "df.tail(3)"
      ],
      "metadata": {
        "id": "ZoC4n4eUhNxs"
      },
      "execution_count": null,
      "outputs": []
    },
    {
      "cell_type": "code",
      "source": [
        "%matplotlib inline\n",
        "\n",
        "df['mean'] = df[series['id']].mean()\n",
        "df[[series['id'], 'mean']].plot(title=series['name'])"
      ],
      "metadata": {
        "id": "rjx0qMRWhTRi"
      },
      "execution_count": null,
      "outputs": []
    },
    {
      "cell_type": "markdown",
      "source": [
        "v2"
      ],
      "metadata": {
        "id": "nZYwfT2Tg9kP"
      }
    },
    {
      "cell_type": "code",
      "source": [
        "!pip install config"
      ],
      "metadata": {
        "id": "xPkQ7IuJh8wb"
      },
      "execution_count": null,
      "outputs": []
    },
    {
      "cell_type": "code",
      "source": [
        "import requests\n",
        "import json\n",
        "import prettytable\n",
        "headers = {'Content-type': 'application/json'}\n",
        "data = json.dumps({\"seriesid\": ['CUUR0000SA0','SUUR0000SA0'],\"startyear\":\"2011\", \"endyear\":\"2014\"})\n",
        "p = requests.post('https://api.bls.gov/publicAPI/v2/timeseries/data/', data=data, headers=headers)\n",
        "json_data = json.loads(p.text)\n",
        "for series in json_data['Results']['series']:\n",
        "    x=prettytable.PrettyTable([\"series id\",\"year\",\"period\",\"value\",\"footnotes\"])\n",
        "    seriesId = series['seriesID']\n",
        "    for item in series['data']:\n",
        "        year = item['year']\n",
        "        period = item['period']\n",
        "        value = item['value']\n",
        "        footnotes=\"\"\n",
        "        for footnote in item['footnotes']:\n",
        "            if footnote:\n",
        "                footnotes = footnotes + footnote['text'] + ','\n",
        "        if 'M01' <= period <= 'M12':\n",
        "            x.add_row([seriesId,year,period,value,footnotes[0:-1]])\n",
        "    output = open(seriesId + '.txt','w')\n",
        "    output.write (x.get_string())\n",
        "    output.close()"
      ],
      "metadata": {
        "id": "4qxJkbrMjLyR"
      },
      "execution_count": null,
      "outputs": []
    },
    {
      "cell_type": "markdown",
      "source": [
        "## Using the Bureau of Economic Analysis Python API Library Part 1\n",
        "[Youtube Video for Reference](https://www.youtube.com/watch?v=wZjA6d2WDYk)"
      ],
      "metadata": {
        "id": "C1AGBN4rkP6K"
      }
    },
    {
      "cell_type": "code",
      "source": [
        "!pip install python-bea"
      ],
      "metadata": {
        "id": "EJZdTiPikPqR"
      },
      "execution_count": null,
      "outputs": []
    },
    {
      "cell_type": "code",
      "source": [
        "!pip install pybea configparser"
      ],
      "metadata": {
        "id": "ePH5ORWIe4BX"
      },
      "execution_count": null,
      "outputs": []
    },
    {
      "cell_type": "code",
      "source": [
        "from google.colab import files\n",
        "uploaded = files.upload()"
      ],
      "metadata": {
        "id": "iB3Hex7IiMya"
      },
      "execution_count": null,
      "outputs": []
    },
    {
      "cell_type": "code",
      "source": [
        "from configparser import ConfigParser\n",
        "\n",
        "# Initialize ConfigParser and read the uploaded configuration file\n",
        "config = ConfigParser()\n",
        "config.read('first_config.ini')  # The file should be in the root directory after upload\n",
        "\n",
        "# Grab the API key from the specified section and key in the config file\n",
        "API_KEY = config.get('ben_BEA_credentials', 'API_KEY')\n",
        "\n",
        "print(API_KEY)  # Just to verify if it works (you can remove this after testing)"
      ],
      "metadata": {
        "id": "c5QkQxocibmV"
      },
      "execution_count": null,
      "outputs": []
    },
    {
      "cell_type": "code",
      "source": [
        "from pprint import pprint\n",
        "from configparser import ConfigParser\n",
        "from pybea.client import BureauEconomicAnalysisClient\n",
        "\n",
        "# Grab my API Key\n",
        "config = ConfigParser()\n",
        "config.read('configs/config.ini')\n",
        "\n",
        "# Initialize API Client\n",
        "bea_client = BureauEconomicAnalysisClient(api_key=API_KEY)\n",
        "\n",
        "# Grab the dataset list.\n",
        "#dataset_list = bea_client.get_dataset_list()\n",
        "#pprint(dataset_list)\n"
      ],
      "metadata": {
        "id": "Pzv-D1rwcJ73"
      },
      "execution_count": null,
      "outputs": []
    },
    {
      "cell_type": "markdown",
      "source": [
        "# Grab Parameters List\n"
      ],
      "metadata": {
        "id": "IuIi8mZuzq6q"
      }
    },
    {
      "cell_type": "code",
      "source": [
        "parameters_set_list = bea_client.get_parameters_list(dataset_name='Regional')\n",
        "# pprint(parameters_set_list)\n"
      ],
      "metadata": {
        "id": "vZuzAK93nC_9"
      },
      "execution_count": null,
      "outputs": []
    },
    {
      "cell_type": "markdown",
      "source": [
        "## Part II of Youtube Video\n",
        "[Youtube video for reference](https://www.youtube.com/watch?v=wZjA6d2WDYk)"
      ],
      "metadata": {
        "id": "K5sj91KcoMxe"
      }
    },
    {
      "cell_type": "markdown",
      "source": [
        "# Grab GDP numbers for finance and insurance industry"
      ],
      "metadata": {
        "id": "OX-edEu9zOoQ"
      }
    },
    {
      "cell_type": "code",
      "source": [
        "gdp_by_industry = bea_client.gdp_by_industry(\n",
        "    year = 'ALL',\n",
        "    industry= '52',\n",
        "    frequency = ['A']\n",
        ")\n",
        "#pprint(gdp_by_industry)"
      ],
      "metadata": {
        "id": "OePdqC--nh51"
      },
      "execution_count": null,
      "outputs": []
    },
    {
      "cell_type": "markdown",
      "source": [
        "# Grab the national product and income data\n"
      ],
      "metadata": {
        "id": "_ICbQTqMzMir"
      }
    },
    {
      "cell_type": "code",
      "source": [
        "national_income = bea_client.national_income_and_product_accounts(\n",
        "    table_name = 'T10101',\n",
        "    frequency = ['A', 'Q'],\n",
        "    year = ['2010, 2012']\n",
        ")\n",
        "#pprint(national_income)"
      ],
      "metadata": {
        "id": "iXUO0-jGpMBu"
      },
      "execution_count": null,
      "outputs": []
    },
    {
      "cell_type": "markdown",
      "source": [
        "# Grab detailed data\n"
      ],
      "metadata": {
        "id": "TKIMA13nzKS6"
      }
    },
    {
      "cell_type": "code",
      "source": [
        "national_income = bea_client.national_income_and_product_accounts_detail(\n",
        "    table_name = 'U20305',\n",
        "    frequency = ['A', 'Q'],\n",
        "    year = ['2010, 2012']\n",
        ")\n",
        "#pprint(national_income)"
      ],
      "metadata": {
        "id": "2ENq7DIaqCXW"
      },
      "execution_count": null,
      "outputs": []
    },
    {
      "cell_type": "markdown",
      "source": [
        "# Grab fixed assets data"
      ],
      "metadata": {
        "id": "UP130lGqzID8"
      }
    },
    {
      "cell_type": "code",
      "source": [
        "fixed_assets = bea_client.fixed_assets(\n",
        "   table_name = 'FAAt201',\n",
        "   year = ['2010, 2012']\n",
        ")\n",
        "#pprint(fixed_assets)"
      ],
      "metadata": {
        "id": "oQnM-oWiq22P"
      },
      "execution_count": null,
      "outputs": []
    },
    {
      "cell_type": "markdown",
      "source": [
        "\n",
        "# Direct investments and multinational enterprises"
      ],
      "metadata": {
        "id": "S3YHtyv2zYMO"
      }
    },
    {
      "cell_type": "code",
      "source": [
        "investments = bea_client.direct_investments_and_multinational_enterprises(\n",
        "    direction_of_investment = 'outward',\n",
        "    classification = 'country',\n",
        "    year = '2010',\n",
        "    country = ['650', '699']\n",
        ")\n",
        "#pprint(investments)"
      ],
      "metadata": {
        "id": "9Njv6vUvrvbk"
      },
      "execution_count": null,
      "outputs": []
    },
    {
      "cell_type": "markdown",
      "source": [
        "# Get US Direct Investment Positions"
      ],
      "metadata": {
        "id": "CVrS9Fc3y6JF"
      }
    },
    {
      "cell_type": "code",
      "source": [
        "investments = bea_client.activities_investments_and_multinational_enterprises(\n",
        "    direction_of_investment = 'outward',\n",
        "    classification = 'CountryByIndustry',\n",
        "    series_id = ['4', '5'],\n",
        "    year = ['2011', '2012'],\n",
        "    country = '202',\n",
        "    ownership_level= False,\n",
        "    industry = 'ALL',\n",
        "    non_bank_affilates_only= False\n",
        "    )\n",
        "#pprint(investments)"
      ],
      "metadata": {
        "id": "NYP94qH-sgIL"
      },
      "execution_count": null,
      "outputs": []
    },
    {
      "cell_type": "markdown",
      "source": [
        "# Grab the Balance of Goods"
      ],
      "metadata": {
        "id": "RLSFQ7kdy3wc"
      }
    },
    {
      "cell_type": "code",
      "source": [
        "balance_of_goods = bea_client.international_transactions(\n",
        "    indicator=['BalGds'],\n",
        "    frequency=['A', 'Q'],\n",
        "    year=['2010', '2012'],\n",
        "    area_or_country= ['China'],\n",
        ")\n",
        "#pprint(balance_of_goods)"
      ],
      "metadata": {
        "id": "dgewQJrzvIJg"
      },
      "execution_count": null,
      "outputs": []
    },
    {
      "cell_type": "markdown",
      "source": [
        "# Grab US Assets"
      ],
      "metadata": {
        "id": "61-WG54vy1JR"
      }
    },
    {
      "cell_type": "code",
      "source": [
        "us_assets = bea_client.international_investments_positions(\n",
        "    type_of_investment = ['FinAssetsExclFinDeriv'],\n",
        "    component = ['ChgPosPrice'],\n",
        "    year = ['ALL'],\n",
        "    frequency = ['A'],\n",
        ")\n",
        "#pprint(us_assets)"
      ],
      "metadata": {
        "id": "CNbpSs5iwMTs"
      },
      "execution_count": null,
      "outputs": []
    },
    {
      "cell_type": "markdown",
      "source": [
        "# Input Output Data"
      ],
      "metadata": {
        "id": "MgXwUH7zw044"
      }
    },
    {
      "cell_type": "code",
      "source": [
        "input_output_data = bea_client.input_output_statstics(\n",
        "    table_id = ['56'],\n",
        "    year = ['2010', '2012']\n",
        ")\n",
        "#pprint(input_output_data)"
      ],
      "metadata": {
        "id": "Zz9LkQ45w2lL"
      },
      "execution_count": null,
      "outputs": []
    },
    {
      "cell_type": "markdown",
      "source": [
        "# Grab Underlying GDP by Industry"
      ],
      "metadata": {
        "id": "dCYYSfvqxuTn"
      }
    },
    {
      "cell_type": "code",
      "source": [
        "underlying_gdp_by_industry = bea_client.underlying_gdp_by_industry(\n",
        "    industry = 'ALL',\n",
        "    year = ['2010', '2012'],\n",
        "    frequency = ['A'],\n",
        "    table_id = ['ALL']\n",
        ")\n",
        "\n",
        "#pprint(underlying_gdp_by_industry)"
      ],
      "metadata": {
        "id": "pKNR_quuxtGA"
      },
      "execution_count": null,
      "outputs": []
    },
    {
      "cell_type": "markdown",
      "source": [
        "# Grab International Trade Services"
      ],
      "metadata": {
        "id": "pmBtvGHdyCA2"
      }
    },
    {
      "cell_type": "code",
      "source": [
        "international_trade_services = bea_client.international_trade_services(\n",
        "    type_of_service='AllServiceTypes',\n",
        "    trade_direction=['Imports'],\n",
        "    year = ['2014', '2015'],\n",
        "    affiliation = ['AllAffiliations'],\n",
        "    area_or_country = ['Germany'],\n",
        ")\n",
        "#pprint(international_trade_services)\n"
      ],
      "metadata": {
        "id": "bS-YNjbRyBuS"
      },
      "execution_count": null,
      "outputs": []
    },
    {
      "cell_type": "markdown",
      "source": [
        "### Bureau of Labor Statistics API Setup"
      ],
      "metadata": {
        "id": "FpbMw_JHuIi0"
      }
    },
    {
      "cell_type": "markdown",
      "source": [
        "[Bureau of Labor Statistics API Python Sample Code](https://www.bls.gov/developers/api_python.htm#python2)"
      ],
      "metadata": {
        "id": "OMTKrBX1uZqZ"
      }
    },
    {
      "cell_type": "code",
      "source": [
        "import requests\n",
        "import json\n",
        "import prettytable\n",
        "headers = {'Content-type': 'application/json'}\n",
        "data = json.dumps({\"seriesid\": ['CUUR0000SA0','SUUR0000SA0'],\"startyear\":\"2011\", \"endyear\":\"2014\"})\n",
        "p = requests.post('https://api.bls.gov/publicAPI/v2/timeseries/data/', data=data, headers=headers)\n",
        "json_data = json.loads(p.text)\n",
        "for series in json_data['Results']['series']:\n",
        "    x=prettytable.PrettyTable([\"series id\",\"year\",\"period\",\"value\",\"footnotes\"])\n",
        "    seriesId = series['seriesID']\n",
        "    for item in series['data']:\n",
        "        year = item['year']\n",
        "        period = item['period']\n",
        "        value = item['value']\n",
        "        footnotes=\"\"\n",
        "        for footnote in item['footnotes']:\n",
        "            if footnote:\n",
        "                footnotes = footnotes + footnote['text'] + ','\n",
        "        if 'M01' <= period <= 'M12':\n",
        "            x.add_row([seriesId,year,period,value,footnotes[0:-1]])\n",
        "    output = open(seriesId + '.txt','w')\n",
        "    output.write (x.get_string())\n",
        "    output.close()"
      ],
      "metadata": {
        "id": "auIMumlxuYvy"
      },
      "execution_count": null,
      "outputs": []
    }
  ]
}
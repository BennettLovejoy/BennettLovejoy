{
  "nbformat": 4,
  "nbformat_minor": 0,
  "metadata": {
    "colab": {
      "provenance": [],
      "mount_file_id": "1k84M9llcNzPx5_X32FRkZWmd_RU7ablY",
      "authorship_tag": "ABX9TyNRRR/iMBTzLdRcgLPYIwm6",
      "include_colab_link": true
    },
    "kernelspec": {
      "name": "python3",
      "display_name": "Python 3"
    },
    "language_info": {
      "name": "python"
    }
  },
  "cells": [
    {
      "cell_type": "markdown",
      "metadata": {
        "id": "view-in-github",
        "colab_type": "text"
      },
      "source": [
        "<a href=\"https://colab.research.google.com/github/BennettLovejoy/Portfolio/blob/main/Advanced_Folium_Portfolio.ipynb\" target=\"_parent\"><img src=\"https://colab.research.google.com/assets/colab-badge.svg\" alt=\"Open In Colab\"/></a>"
      ]
    },
    {
      "cell_type": "code",
      "source": [
        "import requests\n",
        "import json\n",
        "import prettytable\n",
        "headers = {'Content-type': 'application/json'}\n",
        "data = json.dumps({\"seriesid\": ['CUUR0000SA0','SUUR0000SA0'],\"startyear\":\"2011\", \"endyear\":\"2014\"})\n",
        "p = requests.post('https://api.bls.gov/publicAPI/v2/timeseries/data/', data=data, headers=headers)\n",
        "json_data = json.loads(p.text)\n",
        "for series in json_data['Results']['series']:\n",
        "    x=prettytable.PrettyTable([\"series id\",\"year\",\"period\",\"value\",\"footnotes\"])\n",
        "    seriesId = series['seriesID']\n",
        "    for item in series['data']:\n",
        "        year = item['year']\n",
        "        period = item['period']\n",
        "        value = item['value']\n",
        "        footnotes=\"\"\n",
        "        for footnote in item['footnotes']:\n",
        "            if footnote:\n",
        "                footnotes = footnotes + footnote['text'] + ','\n",
        "        if 'M01' <= period <= 'M12':\n",
        "            x.add_row([seriesId,year,period,value,footnotes[0:-1]])\n",
        "    output = open(seriesId + '.txt','w')\n",
        "    output.write (x.get_string())\n",
        "    output.close()"
      ],
      "metadata": {
        "id": "yHbgYOf47jOH"
      },
      "execution_count": null,
      "outputs": []
    },
    {
      "cell_type": "code",
      "source": [
        "# mount google drive\n",
        "from google.colab import drive\n",
        "drive.mount('/content/drive')"
      ],
      "metadata": {
        "colab": {
          "base_uri": "https://localhost:8080/"
        },
        "id": "lXvoI8G95VMQ",
        "outputId": "c7eb8847-e291-4e59-cdb4-a9d30882f6fe"
      },
      "execution_count": null,
      "outputs": [
        {
          "output_type": "stream",
          "name": "stdout",
          "text": [
            "Drive already mounted at /content/drive; to attempt to forcibly remount, call drive.mount(\"/content/drive\", force_remount=True).\n"
          ]
        }
      ]
    },
    {
      "cell_type": "code",
      "execution_count": null,
      "metadata": {
        "colab": {
          "base_uri": "https://localhost:8080/",
          "height": 424
        },
        "id": "3GBbE85T4UDB",
        "outputId": "c8fc2cc5-b225-4a83-afa1-a01377524074"
      },
      "outputs": [
        {
          "output_type": "execute_result",
          "data": {
            "text/plain": [
              "<folium.folium.Map at 0x7cd22ab343a0>"
            ],
            "text/html": [
              "<div style=\"width:100%;\"><div style=\"position:relative;width:100%;height:0;padding-bottom:60%;\"><span style=\"color:#565656\">Make this Notebook Trusted to load map: File -> Trust Notebook</span><iframe srcdoc=\"&lt;!DOCTYPE html&gt;\n",
              "&lt;html&gt;\n",
              "&lt;head&gt;\n",
              "    \n",
              "    &lt;meta http-equiv=&quot;content-type&quot; content=&quot;text/html; charset=UTF-8&quot; /&gt;\n",
              "    \n",
              "        &lt;script&gt;\n",
              "            L_NO_TOUCH = false;\n",
              "            L_DISABLE_3D = false;\n",
              "        &lt;/script&gt;\n",
              "    \n",
              "    &lt;style&gt;html, body {width: 100%;height: 100%;margin: 0;padding: 0;}&lt;/style&gt;\n",
              "    &lt;style&gt;#map {position:absolute;top:0;bottom:0;right:0;left:0;}&lt;/style&gt;\n",
              "    &lt;script src=&quot;https://cdn.jsdelivr.net/npm/leaflet@1.9.3/dist/leaflet.js&quot;&gt;&lt;/script&gt;\n",
              "    &lt;script src=&quot;https://code.jquery.com/jquery-3.7.1.min.js&quot;&gt;&lt;/script&gt;\n",
              "    &lt;script src=&quot;https://cdn.jsdelivr.net/npm/bootstrap@5.2.2/dist/js/bootstrap.bundle.min.js&quot;&gt;&lt;/script&gt;\n",
              "    &lt;script src=&quot;https://cdnjs.cloudflare.com/ajax/libs/Leaflet.awesome-markers/2.0.2/leaflet.awesome-markers.js&quot;&gt;&lt;/script&gt;\n",
              "    &lt;link rel=&quot;stylesheet&quot; href=&quot;https://cdn.jsdelivr.net/npm/leaflet@1.9.3/dist/leaflet.css&quot;/&gt;\n",
              "    &lt;link rel=&quot;stylesheet&quot; href=&quot;https://cdn.jsdelivr.net/npm/bootstrap@5.2.2/dist/css/bootstrap.min.css&quot;/&gt;\n",
              "    &lt;link rel=&quot;stylesheet&quot; href=&quot;https://netdna.bootstrapcdn.com/bootstrap/3.0.0/css/bootstrap-glyphicons.css&quot;/&gt;\n",
              "    &lt;link rel=&quot;stylesheet&quot; href=&quot;https://cdn.jsdelivr.net/npm/@fortawesome/fontawesome-free@6.2.0/css/all.min.css&quot;/&gt;\n",
              "    &lt;link rel=&quot;stylesheet&quot; href=&quot;https://cdnjs.cloudflare.com/ajax/libs/Leaflet.awesome-markers/2.0.2/leaflet.awesome-markers.css&quot;/&gt;\n",
              "    &lt;link rel=&quot;stylesheet&quot; href=&quot;https://cdn.jsdelivr.net/gh/python-visualization/folium/folium/templates/leaflet.awesome.rotate.min.css&quot;/&gt;\n",
              "    \n",
              "            &lt;meta name=&quot;viewport&quot; content=&quot;width=device-width,\n",
              "                initial-scale=1.0, maximum-scale=1.0, user-scalable=no&quot; /&gt;\n",
              "            &lt;style&gt;\n",
              "                #map_ba451e21be319806cd57188990ad7442 {\n",
              "                    position: relative;\n",
              "                    width: 100.0%;\n",
              "                    height: 100.0%;\n",
              "                    left: 0.0%;\n",
              "                    top: 0.0%;\n",
              "                }\n",
              "                .leaflet-container { font-size: 1rem; }\n",
              "            &lt;/style&gt;\n",
              "        \n",
              "&lt;/head&gt;\n",
              "&lt;body&gt;\n",
              "    \n",
              "    \n",
              "            &lt;div class=&quot;folium-map&quot; id=&quot;map_ba451e21be319806cd57188990ad7442&quot; &gt;&lt;/div&gt;\n",
              "        \n",
              "&lt;/body&gt;\n",
              "&lt;script&gt;\n",
              "    \n",
              "    \n",
              "            var map_ba451e21be319806cd57188990ad7442 = L.map(\n",
              "                &quot;map_ba451e21be319806cd57188990ad7442&quot;,\n",
              "                {\n",
              "                    center: [40.0675676, -83.015471],\n",
              "                    crs: L.CRS.EPSG3857,\n",
              "                    zoom: 10,\n",
              "                    zoomControl: true,\n",
              "                    preferCanvas: false,\n",
              "                }\n",
              "            );\n",
              "\n",
              "            \n",
              "\n",
              "        \n",
              "    \n",
              "            var tile_layer_d042bf3eb65dd7f3a00893714533a563 = L.tileLayer(\n",
              "                &quot;https://{s}.basemaps.cartocdn.com/light_all/{z}/{x}/{y}{r}.png&quot;,\n",
              "                {&quot;attribution&quot;: &quot;\\u0026copy; \\u003ca href=\\&quot;https://www.openstreetmap.org/copyright\\&quot;\\u003eOpenStreetMap\\u003c/a\\u003e contributors \\u0026copy; \\u003ca href=\\&quot;https://carto.com/attributions\\&quot;\\u003eCARTO\\u003c/a\\u003e&quot;, &quot;detectRetina&quot;: false, &quot;maxNativeZoom&quot;: 20, &quot;maxZoom&quot;: 20, &quot;minZoom&quot;: 0, &quot;noWrap&quot;: false, &quot;opacity&quot;: 1, &quot;subdomains&quot;: &quot;abcd&quot;, &quot;tms&quot;: false}\n",
              "            );\n",
              "        \n",
              "    \n",
              "            tile_layer_d042bf3eb65dd7f3a00893714533a563.addTo(map_ba451e21be319806cd57188990ad7442);\n",
              "        \n",
              "&lt;/script&gt;\n",
              "&lt;/html&gt;\" style=\"position:absolute;width:100%;height:100%;left:0;top:0;border:none !important;\" allowfullscreen webkitallowfullscreen mozallowfullscreen></iframe></div></div>"
            ]
          },
          "metadata": {},
          "execution_count": 30
        }
      ],
      "source": [
        "import folium\n",
        "\n",
        "m = folium.Map(location=(40.0675676,-83.015471), tiles=\"cartodb positron\")\n",
        "m\n",
        "#m.save(\"index.html\")\n"
      ]
    },
    {
      "cell_type": "code",
      "source": [
        "m = folium.Map([40.0675676,-83.015471], zoom_start=12, tiles=\"cartodb positron\")\n",
        "\n",
        "# Write function to get coordinates, name, relevant data from each school in XYZ dataset\n",
        "\n",
        "folium.Marker(\n",
        "    location=[40.0675676,-83.015471],\n",
        "    tooltip=\"Click me!\",\n",
        "    popup=\"School Name\",\n",
        "    icon=folium.Icon(icon=\"cloud\"),\n",
        ").add_to(m)\n",
        "\n",
        "folium.Marker(\n",
        "    location=[40.0675676,-83.015471],\n",
        "    tooltip=\"Click me!\",\n",
        "    popup=\"Current Location\",\n",
        "    icon=folium.Icon(color=\"green\"),\n",
        ").add_to(m)\n",
        "\n",
        "m"
      ],
      "metadata": {
        "colab": {
          "base_uri": "https://localhost:8080/",
          "height": 424
        },
        "id": "I2HhEXSg5C9E",
        "outputId": "dfee53bd-b08f-4db1-b3fa-b6a709e96b7c"
      },
      "execution_count": null,
      "outputs": [
        {
          "output_type": "execute_result",
          "data": {
            "text/plain": [
              "<folium.folium.Map at 0x7cd2155cb490>"
            ],
            "text/html": [
              "<div style=\"width:100%;\"><div style=\"position:relative;width:100%;height:0;padding-bottom:60%;\"><span style=\"color:#565656\">Make this Notebook Trusted to load map: File -> Trust Notebook</span><iframe srcdoc=\"&lt;!DOCTYPE html&gt;\n",
              "&lt;html&gt;\n",
              "&lt;head&gt;\n",
              "    \n",
              "    &lt;meta http-equiv=&quot;content-type&quot; content=&quot;text/html; charset=UTF-8&quot; /&gt;\n",
              "    \n",
              "        &lt;script&gt;\n",
              "            L_NO_TOUCH = false;\n",
              "            L_DISABLE_3D = false;\n",
              "        &lt;/script&gt;\n",
              "    \n",
              "    &lt;style&gt;html, body {width: 100%;height: 100%;margin: 0;padding: 0;}&lt;/style&gt;\n",
              "    &lt;style&gt;#map {position:absolute;top:0;bottom:0;right:0;left:0;}&lt;/style&gt;\n",
              "    &lt;script src=&quot;https://cdn.jsdelivr.net/npm/leaflet@1.9.3/dist/leaflet.js&quot;&gt;&lt;/script&gt;\n",
              "    &lt;script src=&quot;https://code.jquery.com/jquery-3.7.1.min.js&quot;&gt;&lt;/script&gt;\n",
              "    &lt;script src=&quot;https://cdn.jsdelivr.net/npm/bootstrap@5.2.2/dist/js/bootstrap.bundle.min.js&quot;&gt;&lt;/script&gt;\n",
              "    &lt;script src=&quot;https://cdnjs.cloudflare.com/ajax/libs/Leaflet.awesome-markers/2.0.2/leaflet.awesome-markers.js&quot;&gt;&lt;/script&gt;\n",
              "    &lt;link rel=&quot;stylesheet&quot; href=&quot;https://cdn.jsdelivr.net/npm/leaflet@1.9.3/dist/leaflet.css&quot;/&gt;\n",
              "    &lt;link rel=&quot;stylesheet&quot; href=&quot;https://cdn.jsdelivr.net/npm/bootstrap@5.2.2/dist/css/bootstrap.min.css&quot;/&gt;\n",
              "    &lt;link rel=&quot;stylesheet&quot; href=&quot;https://netdna.bootstrapcdn.com/bootstrap/3.0.0/css/bootstrap-glyphicons.css&quot;/&gt;\n",
              "    &lt;link rel=&quot;stylesheet&quot; href=&quot;https://cdn.jsdelivr.net/npm/@fortawesome/fontawesome-free@6.2.0/css/all.min.css&quot;/&gt;\n",
              "    &lt;link rel=&quot;stylesheet&quot; href=&quot;https://cdnjs.cloudflare.com/ajax/libs/Leaflet.awesome-markers/2.0.2/leaflet.awesome-markers.css&quot;/&gt;\n",
              "    &lt;link rel=&quot;stylesheet&quot; href=&quot;https://cdn.jsdelivr.net/gh/python-visualization/folium/folium/templates/leaflet.awesome.rotate.min.css&quot;/&gt;\n",
              "    \n",
              "            &lt;meta name=&quot;viewport&quot; content=&quot;width=device-width,\n",
              "                initial-scale=1.0, maximum-scale=1.0, user-scalable=no&quot; /&gt;\n",
              "            &lt;style&gt;\n",
              "                #map_3743bb057c3eafcd18302bcd9dacf904 {\n",
              "                    position: relative;\n",
              "                    width: 100.0%;\n",
              "                    height: 100.0%;\n",
              "                    left: 0.0%;\n",
              "                    top: 0.0%;\n",
              "                }\n",
              "                .leaflet-container { font-size: 1rem; }\n",
              "            &lt;/style&gt;\n",
              "        \n",
              "&lt;/head&gt;\n",
              "&lt;body&gt;\n",
              "    \n",
              "    \n",
              "            &lt;div class=&quot;folium-map&quot; id=&quot;map_3743bb057c3eafcd18302bcd9dacf904&quot; &gt;&lt;/div&gt;\n",
              "        \n",
              "&lt;/body&gt;\n",
              "&lt;script&gt;\n",
              "    \n",
              "    \n",
              "            var map_3743bb057c3eafcd18302bcd9dacf904 = L.map(\n",
              "                &quot;map_3743bb057c3eafcd18302bcd9dacf904&quot;,\n",
              "                {\n",
              "                    center: [40.0675676, -83.015471],\n",
              "                    crs: L.CRS.EPSG3857,\n",
              "                    zoom: 12,\n",
              "                    zoomControl: true,\n",
              "                    preferCanvas: false,\n",
              "                }\n",
              "            );\n",
              "\n",
              "            \n",
              "\n",
              "        \n",
              "    \n",
              "            var tile_layer_d2d3528a7e72c696bba2db1292ffed81 = L.tileLayer(\n",
              "                &quot;https://{s}.basemaps.cartocdn.com/light_all/{z}/{x}/{y}{r}.png&quot;,\n",
              "                {&quot;attribution&quot;: &quot;\\u0026copy; \\u003ca href=\\&quot;https://www.openstreetmap.org/copyright\\&quot;\\u003eOpenStreetMap\\u003c/a\\u003e contributors \\u0026copy; \\u003ca href=\\&quot;https://carto.com/attributions\\&quot;\\u003eCARTO\\u003c/a\\u003e&quot;, &quot;detectRetina&quot;: false, &quot;maxNativeZoom&quot;: 20, &quot;maxZoom&quot;: 20, &quot;minZoom&quot;: 0, &quot;noWrap&quot;: false, &quot;opacity&quot;: 1, &quot;subdomains&quot;: &quot;abcd&quot;, &quot;tms&quot;: false}\n",
              "            );\n",
              "        \n",
              "    \n",
              "            tile_layer_d2d3528a7e72c696bba2db1292ffed81.addTo(map_3743bb057c3eafcd18302bcd9dacf904);\n",
              "        \n",
              "    \n",
              "            var marker_01b31c688867e3c79108d5f5eba32e29 = L.marker(\n",
              "                [40.0675676, -83.015471],\n",
              "                {}\n",
              "            ).addTo(map_3743bb057c3eafcd18302bcd9dacf904);\n",
              "        \n",
              "    \n",
              "            var icon_67861210568e376736b8fbe1eccc8068 = L.AwesomeMarkers.icon(\n",
              "                {&quot;extraClasses&quot;: &quot;fa-rotate-0&quot;, &quot;icon&quot;: &quot;cloud&quot;, &quot;iconColor&quot;: &quot;white&quot;, &quot;markerColor&quot;: &quot;blue&quot;, &quot;prefix&quot;: &quot;glyphicon&quot;}\n",
              "            );\n",
              "            marker_01b31c688867e3c79108d5f5eba32e29.setIcon(icon_67861210568e376736b8fbe1eccc8068);\n",
              "        \n",
              "    \n",
              "        var popup_bd1f79d8766e5d673e5ced2e65c249af = L.popup({&quot;maxWidth&quot;: &quot;100%&quot;});\n",
              "\n",
              "        \n",
              "            \n",
              "                var html_f48750dbe1f4319b8d482f6fbe24190a = $(`&lt;div id=&quot;html_f48750dbe1f4319b8d482f6fbe24190a&quot; style=&quot;width: 100.0%; height: 100.0%;&quot;&gt;School Name&lt;/div&gt;`)[0];\n",
              "                popup_bd1f79d8766e5d673e5ced2e65c249af.setContent(html_f48750dbe1f4319b8d482f6fbe24190a);\n",
              "            \n",
              "        \n",
              "\n",
              "        marker_01b31c688867e3c79108d5f5eba32e29.bindPopup(popup_bd1f79d8766e5d673e5ced2e65c249af)\n",
              "        ;\n",
              "\n",
              "        \n",
              "    \n",
              "    \n",
              "            marker_01b31c688867e3c79108d5f5eba32e29.bindTooltip(\n",
              "                `&lt;div&gt;\n",
              "                     Click me!\n",
              "                 &lt;/div&gt;`,\n",
              "                {&quot;sticky&quot;: true}\n",
              "            );\n",
              "        \n",
              "    \n",
              "            var marker_cb43da1d901b9a166ddeec5aa1397a42 = L.marker(\n",
              "                [40.0675676, -83.015471],\n",
              "                {}\n",
              "            ).addTo(map_3743bb057c3eafcd18302bcd9dacf904);\n",
              "        \n",
              "    \n",
              "            var icon_59dc2fc24c12a6efc45661e8c8da6814 = L.AwesomeMarkers.icon(\n",
              "                {&quot;extraClasses&quot;: &quot;fa-rotate-0&quot;, &quot;icon&quot;: &quot;info-sign&quot;, &quot;iconColor&quot;: &quot;white&quot;, &quot;markerColor&quot;: &quot;green&quot;, &quot;prefix&quot;: &quot;glyphicon&quot;}\n",
              "            );\n",
              "            marker_cb43da1d901b9a166ddeec5aa1397a42.setIcon(icon_59dc2fc24c12a6efc45661e8c8da6814);\n",
              "        \n",
              "    \n",
              "        var popup_d494219a3256bba125f97fe06ce2453c = L.popup({&quot;maxWidth&quot;: &quot;100%&quot;});\n",
              "\n",
              "        \n",
              "            \n",
              "                var html_2d9a905378343b621e7a087b36455c67 = $(`&lt;div id=&quot;html_2d9a905378343b621e7a087b36455c67&quot; style=&quot;width: 100.0%; height: 100.0%;&quot;&gt;Current Location&lt;/div&gt;`)[0];\n",
              "                popup_d494219a3256bba125f97fe06ce2453c.setContent(html_2d9a905378343b621e7a087b36455c67);\n",
              "            \n",
              "        \n",
              "\n",
              "        marker_cb43da1d901b9a166ddeec5aa1397a42.bindPopup(popup_d494219a3256bba125f97fe06ce2453c)\n",
              "        ;\n",
              "\n",
              "        \n",
              "    \n",
              "    \n",
              "            marker_cb43da1d901b9a166ddeec5aa1397a42.bindTooltip(\n",
              "                `&lt;div&gt;\n",
              "                     Click me!\n",
              "                 &lt;/div&gt;`,\n",
              "                {&quot;sticky&quot;: true}\n",
              "            );\n",
              "        \n",
              "&lt;/script&gt;\n",
              "&lt;/html&gt;\" style=\"position:absolute;width:100%;height:100%;left:0;top:0;border:none !important;\" allowfullscreen webkitallowfullscreen mozallowfullscreen></iframe></div></div>"
            ]
          },
          "metadata": {},
          "execution_count": 31
        }
      ]
    },
    {
      "cell_type": "code",
      "source": [
        "#for i in all_coords:\n",
        "    #folium.Marker(i).add_to(m)\n"
      ],
      "metadata": {
        "id": "qBVXH8p1EiyR"
      },
      "execution_count": null,
      "outputs": []
    },
    {
      "cell_type": "markdown",
      "source": [
        "[Bureau of Labor Statistics API Sample Python Code](https://www.bls.gov/developers/api_python.htm)"
      ],
      "metadata": {
        "id": "gjRJx_79IvBC"
      }
    },
    {
      "cell_type": "code",
      "source": [
        "!pip install bls"
      ],
      "metadata": {
        "colab": {
          "base_uri": "https://localhost:8080/"
        },
        "id": "Nh7xvUyOd0D8",
        "outputId": "79150101-acbf-4ab0-8707-740b0e0ccbd9"
      },
      "execution_count": null,
      "outputs": [
        {
          "output_type": "stream",
          "name": "stdout",
          "text": [
            "Requirement already satisfied: bls in /usr/local/lib/python3.10/dist-packages (0.3.0)\n",
            "Requirement already satisfied: pandas in /usr/local/lib/python3.10/dist-packages (from bls) (2.1.4)\n",
            "Requirement already satisfied: requests in /usr/local/lib/python3.10/dist-packages (from bls) (2.32.3)\n",
            "Requirement already satisfied: numpy<2,>=1.22.4 in /usr/local/lib/python3.10/dist-packages (from pandas->bls) (1.26.4)\n",
            "Requirement already satisfied: python-dateutil>=2.8.2 in /usr/local/lib/python3.10/dist-packages (from pandas->bls) (2.8.2)\n",
            "Requirement already satisfied: pytz>=2020.1 in /usr/local/lib/python3.10/dist-packages (from pandas->bls) (2024.1)\n",
            "Requirement already satisfied: tzdata>=2022.1 in /usr/local/lib/python3.10/dist-packages (from pandas->bls) (2024.1)\n",
            "Requirement already satisfied: charset-normalizer<4,>=2 in /usr/local/lib/python3.10/dist-packages (from requests->bls) (3.3.2)\n",
            "Requirement already satisfied: idna<4,>=2.5 in /usr/local/lib/python3.10/dist-packages (from requests->bls) (3.8)\n",
            "Requirement already satisfied: urllib3<3,>=1.21.1 in /usr/local/lib/python3.10/dist-packages (from requests->bls) (2.0.7)\n",
            "Requirement already satisfied: certifi>=2017.4.17 in /usr/local/lib/python3.10/dist-packages (from requests->bls) (2024.7.4)\n",
            "Requirement already satisfied: six>=1.5 in /usr/local/lib/python3.10/dist-packages (from python-dateutil>=2.8.2->pandas->bls) (1.16.0)\n"
          ]
        }
      ]
    },
    {
      "cell_type": "code",
      "source": [
        "import requests\n",
        "import json\n",
        "import prettytable\n",
        "import bls"
      ],
      "metadata": {
        "id": "a1J-MZzMIuoy"
      },
      "execution_count": null,
      "outputs": []
    },
    {
      "cell_type": "markdown",
      "source": [
        "## U.S. Bureau of Labor Statistics (BLS) Application Programming Interface with Python: guided examples [website](https://www.bd-econ.com/blsapi.html)"
      ],
      "metadata": {
        "id": "vkL9BgdUeUWj"
      }
    },
    {
      "cell_type": "markdown",
      "source": [
        "v1"
      ],
      "metadata": {
        "id": "z1peCx8hg8bW"
      }
    },
    {
      "cell_type": "code",
      "source": [
        "# BLS API v1 url\n",
        "base_url = 'https://api.bls.gov/publicAPI/v1/timeseries/data/'"
      ],
      "metadata": {
        "id": "_PFvNaSWg-wB"
      },
      "execution_count": null,
      "outputs": []
    },
    {
      "cell_type": "code",
      "source": [
        "# BLS series id for the civilian labor force participation rate\n",
        "series = {'id': 'LNS11300000',\n",
        "          'name': 'Labor Force Participation Rate'}"
      ],
      "metadata": {
        "id": "vjuLZ0X_hA8b"
      },
      "execution_count": null,
      "outputs": []
    },
    {
      "cell_type": "code",
      "source": [
        "data_url = '{}{}'.format(base_url, series['id'])\n",
        "print(data_url)"
      ],
      "metadata": {
        "colab": {
          "base_uri": "https://localhost:8080/"
        },
        "id": "dB-6iAskhEiX",
        "outputId": "25579d55-438c-41ff-ba12-f5dc3f290224"
      },
      "execution_count": null,
      "outputs": [
        {
          "output_type": "stream",
          "name": "stdout",
          "text": [
            "https://api.bls.gov/publicAPI/v1/timeseries/data/LNS11300000\n"
          ]
        }
      ]
    },
    {
      "cell_type": "code",
      "source": [
        "import requests\n",
        "\n",
        "r = requests.get(data_url).json()\n",
        "print('Status: ' + r['status'])"
      ],
      "metadata": {
        "colab": {
          "base_uri": "https://localhost:8080/"
        },
        "id": "l5_XFZIHhGgW",
        "outputId": "41618109-d201-4509-9e1a-60228c7d1488"
      },
      "execution_count": null,
      "outputs": [
        {
          "output_type": "stream",
          "name": "stdout",
          "text": [
            "Status: REQUEST_SUCCEEDED\n"
          ]
        }
      ]
    },
    {
      "cell_type": "code",
      "source": [
        "print(r.keys())"
      ],
      "metadata": {
        "colab": {
          "base_uri": "https://localhost:8080/"
        },
        "id": "aSJQ3X3vhJzk",
        "outputId": "8b8d356c-df6a-4227-f256-c2bb5046a278"
      },
      "execution_count": null,
      "outputs": [
        {
          "output_type": "stream",
          "name": "stdout",
          "text": [
            "dict_keys(['status', 'responseTime', 'message', 'Results'])\n"
          ]
        }
      ]
    },
    {
      "cell_type": "code",
      "source": [
        "r = r['Results']['series'][0]['data']\n",
        "print(r[0])"
      ],
      "metadata": {
        "colab": {
          "base_uri": "https://localhost:8080/"
        },
        "id": "0xLrbl39hNCY",
        "outputId": "498fb6dd-4644-4878-c4b0-bfe78eb6b679"
      },
      "execution_count": null,
      "outputs": [
        {
          "output_type": "stream",
          "name": "stdout",
          "text": [
            "{'year': '2024', 'period': 'M07', 'periodName': 'July', 'latest': 'true', 'value': '62.7', 'footnotes': [{}]}\n"
          ]
        }
      ]
    },
    {
      "cell_type": "code",
      "source": [
        "import pandas as pd\n",
        "\n",
        "dates = ['{} {}'.format(i['period'], i['year']) for i in r]\n",
        "index = pd.to_datetime(dates)\n",
        "data = {series['id']: [float(i['value']) for i in r],\n",
        "        'footnotes': [i['footnotes'][0] for i in r]}\n",
        "\n",
        "df = pd.DataFrame(index=index, data=data).iloc[::-1]\n",
        "\n",
        "df.tail(3)"
      ],
      "metadata": {
        "colab": {
          "base_uri": "https://localhost:8080/",
          "height": 199
        },
        "id": "ZoC4n4eUhNxs",
        "outputId": "58bd349b-1dee-428e-b666-6eaac9743343"
      },
      "execution_count": null,
      "outputs": [
        {
          "output_type": "stream",
          "name": "stderr",
          "text": [
            "<ipython-input-41-08aa03f2c571>:4: UserWarning: Could not infer format, so each element will be parsed individually, falling back to `dateutil`. To ensure parsing is consistent and as-expected, please specify a format.\n",
            "  index = pd.to_datetime(dates)\n"
          ]
        },
        {
          "output_type": "execute_result",
          "data": {
            "text/plain": [
              "                     LNS11300000 footnotes\n",
              "2024-01-01 00:00:05         62.5        {}\n",
              "2024-01-01 00:00:06         62.6        {}\n",
              "2024-01-01 00:00:07         62.7        {}"
            ],
            "text/html": [
              "\n",
              "  <div id=\"df-8666fd96-7728-4170-8c95-b0016b545651\" class=\"colab-df-container\">\n",
              "    <div>\n",
              "<style scoped>\n",
              "    .dataframe tbody tr th:only-of-type {\n",
              "        vertical-align: middle;\n",
              "    }\n",
              "\n",
              "    .dataframe tbody tr th {\n",
              "        vertical-align: top;\n",
              "    }\n",
              "\n",
              "    .dataframe thead th {\n",
              "        text-align: right;\n",
              "    }\n",
              "</style>\n",
              "<table border=\"1\" class=\"dataframe\">\n",
              "  <thead>\n",
              "    <tr style=\"text-align: right;\">\n",
              "      <th></th>\n",
              "      <th>LNS11300000</th>\n",
              "      <th>footnotes</th>\n",
              "    </tr>\n",
              "  </thead>\n",
              "  <tbody>\n",
              "    <tr>\n",
              "      <th>2024-01-01 00:00:05</th>\n",
              "      <td>62.5</td>\n",
              "      <td>{}</td>\n",
              "    </tr>\n",
              "    <tr>\n",
              "      <th>2024-01-01 00:00:06</th>\n",
              "      <td>62.6</td>\n",
              "      <td>{}</td>\n",
              "    </tr>\n",
              "    <tr>\n",
              "      <th>2024-01-01 00:00:07</th>\n",
              "      <td>62.7</td>\n",
              "      <td>{}</td>\n",
              "    </tr>\n",
              "  </tbody>\n",
              "</table>\n",
              "</div>\n",
              "    <div class=\"colab-df-buttons\">\n",
              "\n",
              "  <div class=\"colab-df-container\">\n",
              "    <button class=\"colab-df-convert\" onclick=\"convertToInteractive('df-8666fd96-7728-4170-8c95-b0016b545651')\"\n",
              "            title=\"Convert this dataframe to an interactive table.\"\n",
              "            style=\"display:none;\">\n",
              "\n",
              "  <svg xmlns=\"http://www.w3.org/2000/svg\" height=\"24px\" viewBox=\"0 -960 960 960\">\n",
              "    <path d=\"M120-120v-720h720v720H120Zm60-500h600v-160H180v160Zm220 220h160v-160H400v160Zm0 220h160v-160H400v160ZM180-400h160v-160H180v160Zm440 0h160v-160H620v160ZM180-180h160v-160H180v160Zm440 0h160v-160H620v160Z\"/>\n",
              "  </svg>\n",
              "    </button>\n",
              "\n",
              "  <style>\n",
              "    .colab-df-container {\n",
              "      display:flex;\n",
              "      gap: 12px;\n",
              "    }\n",
              "\n",
              "    .colab-df-convert {\n",
              "      background-color: #E8F0FE;\n",
              "      border: none;\n",
              "      border-radius: 50%;\n",
              "      cursor: pointer;\n",
              "      display: none;\n",
              "      fill: #1967D2;\n",
              "      height: 32px;\n",
              "      padding: 0 0 0 0;\n",
              "      width: 32px;\n",
              "    }\n",
              "\n",
              "    .colab-df-convert:hover {\n",
              "      background-color: #E2EBFA;\n",
              "      box-shadow: 0px 1px 2px rgba(60, 64, 67, 0.3), 0px 1px 3px 1px rgba(60, 64, 67, 0.15);\n",
              "      fill: #174EA6;\n",
              "    }\n",
              "\n",
              "    .colab-df-buttons div {\n",
              "      margin-bottom: 4px;\n",
              "    }\n",
              "\n",
              "    [theme=dark] .colab-df-convert {\n",
              "      background-color: #3B4455;\n",
              "      fill: #D2E3FC;\n",
              "    }\n",
              "\n",
              "    [theme=dark] .colab-df-convert:hover {\n",
              "      background-color: #434B5C;\n",
              "      box-shadow: 0px 1px 3px 1px rgba(0, 0, 0, 0.15);\n",
              "      filter: drop-shadow(0px 1px 2px rgba(0, 0, 0, 0.3));\n",
              "      fill: #FFFFFF;\n",
              "    }\n",
              "  </style>\n",
              "\n",
              "    <script>\n",
              "      const buttonEl =\n",
              "        document.querySelector('#df-8666fd96-7728-4170-8c95-b0016b545651 button.colab-df-convert');\n",
              "      buttonEl.style.display =\n",
              "        google.colab.kernel.accessAllowed ? 'block' : 'none';\n",
              "\n",
              "      async function convertToInteractive(key) {\n",
              "        const element = document.querySelector('#df-8666fd96-7728-4170-8c95-b0016b545651');\n",
              "        const dataTable =\n",
              "          await google.colab.kernel.invokeFunction('convertToInteractive',\n",
              "                                                    [key], {});\n",
              "        if (!dataTable) return;\n",
              "\n",
              "        const docLinkHtml = 'Like what you see? Visit the ' +\n",
              "          '<a target=\"_blank\" href=https://colab.research.google.com/notebooks/data_table.ipynb>data table notebook</a>'\n",
              "          + ' to learn more about interactive tables.';\n",
              "        element.innerHTML = '';\n",
              "        dataTable['output_type'] = 'display_data';\n",
              "        await google.colab.output.renderOutput(dataTable, element);\n",
              "        const docLink = document.createElement('div');\n",
              "        docLink.innerHTML = docLinkHtml;\n",
              "        element.appendChild(docLink);\n",
              "      }\n",
              "    </script>\n",
              "  </div>\n",
              "\n",
              "\n",
              "<div id=\"df-9b72b0ba-d330-4626-8d09-500b6d373c63\">\n",
              "  <button class=\"colab-df-quickchart\" onclick=\"quickchart('df-9b72b0ba-d330-4626-8d09-500b6d373c63')\"\n",
              "            title=\"Suggest charts\"\n",
              "            style=\"display:none;\">\n",
              "\n",
              "<svg xmlns=\"http://www.w3.org/2000/svg\" height=\"24px\"viewBox=\"0 0 24 24\"\n",
              "     width=\"24px\">\n",
              "    <g>\n",
              "        <path d=\"M19 3H5c-1.1 0-2 .9-2 2v14c0 1.1.9 2 2 2h14c1.1 0 2-.9 2-2V5c0-1.1-.9-2-2-2zM9 17H7v-7h2v7zm4 0h-2V7h2v10zm4 0h-2v-4h2v4z\"/>\n",
              "    </g>\n",
              "</svg>\n",
              "  </button>\n",
              "\n",
              "<style>\n",
              "  .colab-df-quickchart {\n",
              "      --bg-color: #E8F0FE;\n",
              "      --fill-color: #1967D2;\n",
              "      --hover-bg-color: #E2EBFA;\n",
              "      --hover-fill-color: #174EA6;\n",
              "      --disabled-fill-color: #AAA;\n",
              "      --disabled-bg-color: #DDD;\n",
              "  }\n",
              "\n",
              "  [theme=dark] .colab-df-quickchart {\n",
              "      --bg-color: #3B4455;\n",
              "      --fill-color: #D2E3FC;\n",
              "      --hover-bg-color: #434B5C;\n",
              "      --hover-fill-color: #FFFFFF;\n",
              "      --disabled-bg-color: #3B4455;\n",
              "      --disabled-fill-color: #666;\n",
              "  }\n",
              "\n",
              "  .colab-df-quickchart {\n",
              "    background-color: var(--bg-color);\n",
              "    border: none;\n",
              "    border-radius: 50%;\n",
              "    cursor: pointer;\n",
              "    display: none;\n",
              "    fill: var(--fill-color);\n",
              "    height: 32px;\n",
              "    padding: 0;\n",
              "    width: 32px;\n",
              "  }\n",
              "\n",
              "  .colab-df-quickchart:hover {\n",
              "    background-color: var(--hover-bg-color);\n",
              "    box-shadow: 0 1px 2px rgba(60, 64, 67, 0.3), 0 1px 3px 1px rgba(60, 64, 67, 0.15);\n",
              "    fill: var(--button-hover-fill-color);\n",
              "  }\n",
              "\n",
              "  .colab-df-quickchart-complete:disabled,\n",
              "  .colab-df-quickchart-complete:disabled:hover {\n",
              "    background-color: var(--disabled-bg-color);\n",
              "    fill: var(--disabled-fill-color);\n",
              "    box-shadow: none;\n",
              "  }\n",
              "\n",
              "  .colab-df-spinner {\n",
              "    border: 2px solid var(--fill-color);\n",
              "    border-color: transparent;\n",
              "    border-bottom-color: var(--fill-color);\n",
              "    animation:\n",
              "      spin 1s steps(1) infinite;\n",
              "  }\n",
              "\n",
              "  @keyframes spin {\n",
              "    0% {\n",
              "      border-color: transparent;\n",
              "      border-bottom-color: var(--fill-color);\n",
              "      border-left-color: var(--fill-color);\n",
              "    }\n",
              "    20% {\n",
              "      border-color: transparent;\n",
              "      border-left-color: var(--fill-color);\n",
              "      border-top-color: var(--fill-color);\n",
              "    }\n",
              "    30% {\n",
              "      border-color: transparent;\n",
              "      border-left-color: var(--fill-color);\n",
              "      border-top-color: var(--fill-color);\n",
              "      border-right-color: var(--fill-color);\n",
              "    }\n",
              "    40% {\n",
              "      border-color: transparent;\n",
              "      border-right-color: var(--fill-color);\n",
              "      border-top-color: var(--fill-color);\n",
              "    }\n",
              "    60% {\n",
              "      border-color: transparent;\n",
              "      border-right-color: var(--fill-color);\n",
              "    }\n",
              "    80% {\n",
              "      border-color: transparent;\n",
              "      border-right-color: var(--fill-color);\n",
              "      border-bottom-color: var(--fill-color);\n",
              "    }\n",
              "    90% {\n",
              "      border-color: transparent;\n",
              "      border-bottom-color: var(--fill-color);\n",
              "    }\n",
              "  }\n",
              "</style>\n",
              "\n",
              "  <script>\n",
              "    async function quickchart(key) {\n",
              "      const quickchartButtonEl =\n",
              "        document.querySelector('#' + key + ' button');\n",
              "      quickchartButtonEl.disabled = true;  // To prevent multiple clicks.\n",
              "      quickchartButtonEl.classList.add('colab-df-spinner');\n",
              "      try {\n",
              "        const charts = await google.colab.kernel.invokeFunction(\n",
              "            'suggestCharts', [key], {});\n",
              "      } catch (error) {\n",
              "        console.error('Error during call to suggestCharts:', error);\n",
              "      }\n",
              "      quickchartButtonEl.classList.remove('colab-df-spinner');\n",
              "      quickchartButtonEl.classList.add('colab-df-quickchart-complete');\n",
              "    }\n",
              "    (() => {\n",
              "      let quickchartButtonEl =\n",
              "        document.querySelector('#df-9b72b0ba-d330-4626-8d09-500b6d373c63 button');\n",
              "      quickchartButtonEl.style.display =\n",
              "        google.colab.kernel.accessAllowed ? 'block' : 'none';\n",
              "    })();\n",
              "  </script>\n",
              "</div>\n",
              "\n",
              "    </div>\n",
              "  </div>\n"
            ],
            "application/vnd.google.colaboratory.intrinsic+json": {
              "type": "dataframe",
              "summary": "{\n  \"name\": \"df\",\n  \"rows\": 3,\n  \"fields\": [\n    {\n      \"column\": \"LNS11300000\",\n      \"properties\": {\n        \"dtype\": \"number\",\n        \"std\": 0.10000000000000142,\n        \"min\": 62.5,\n        \"max\": 62.7,\n        \"num_unique_values\": 3,\n        \"samples\": [\n          62.5,\n          62.6,\n          62.7\n        ],\n        \"semantic_type\": \"\",\n        \"description\": \"\"\n      }\n    },\n    {\n      \"column\": \"footnotes\",\n      \"properties\": {\n        \"dtype\": \"object\",\n        \"semantic_type\": \"\",\n        \"description\": \"\"\n      }\n    }\n  ]\n}"
            }
          },
          "metadata": {},
          "execution_count": 41
        }
      ]
    },
    {
      "cell_type": "code",
      "source": [
        "%matplotlib inline\n",
        "\n",
        "df['mean'] = df[series['id']].mean()\n",
        "df[[series['id'], 'mean']].plot(title=series['name'])"
      ],
      "metadata": {
        "colab": {
          "base_uri": "https://localhost:8080/",
          "height": 454
        },
        "id": "rjx0qMRWhTRi",
        "outputId": "2a246d3f-1c59-4eeb-d4eb-ef70a2abfaf7"
      },
      "execution_count": null,
      "outputs": [
        {
          "output_type": "execute_result",
          "data": {
            "text/plain": [
              "<Axes: title={'center': 'Labor Force Participation Rate'}>"
            ]
          },
          "metadata": {},
          "execution_count": 42
        },
        {
          "output_type": "display_data",
          "data": {
            "text/plain": [
              "<Figure size 640x480 with 1 Axes>"
            ],
            "image/png": "[encoded data removed]"
          },
          "metadata": {}
        }
      ]
    },
    {
      "cell_type": "markdown",
      "source": [
        "v2"
      ],
      "metadata": {
        "id": "nZYwfT2Tg9kP"
      }
    },
    {
      "cell_type": "code",
      "source": [
        "!pip install config"
      ],
      "metadata": {
        "colab": {
          "base_uri": "https://localhost:8080/"
        },
        "id": "xPkQ7IuJh8wb",
        "outputId": "102c98a2-5083-4ae5-f3d8-957d88f5540e"
      },
      "execution_count": null,
      "outputs": [
        {
          "output_type": "stream",
          "name": "stdout",
          "text": [
            "Requirement already satisfied: config in /usr/local/lib/python3.10/dist-packages (0.5.1)\n"
          ]
        }
      ]
    },
    {
      "cell_type": "code",
      "source": [
        "import requests\n",
        "import json\n",
        "import prettytable\n",
        "headers = {'Content-type': 'application/json'}\n",
        "data = json.dumps({\"seriesid\": ['CUUR0000SA0','SUUR0000SA0'],\"startyear\":\"2011\", \"endyear\":\"2014\"})\n",
        "p = requests.post('https://api.bls.gov/publicAPI/v2/timeseries/data/', data=data, headers=headers)\n",
        "json_data = json.loads(p.text)\n",
        "for series in json_data['Results']['series']:\n",
        "    x=prettytable.PrettyTable([\"series id\",\"year\",\"period\",\"value\",\"footnotes\"])\n",
        "    seriesId = series['seriesID']\n",
        "    for item in series['data']:\n",
        "        year = item['year']\n",
        "        period = item['period']\n",
        "        value = item['value']\n",
        "        footnotes=\"\"\n",
        "        for footnote in item['footnotes']:\n",
        "            if footnote:\n",
        "                footnotes = footnotes + footnote['text'] + ','\n",
        "        if 'M01' <= period <= 'M12':\n",
        "            x.add_row([seriesId,year,period,value,footnotes[0:-1]])\n",
        "    output = open(seriesId + '.txt','w')\n",
        "    output.write (x.get_string())\n",
        "    output.close()"
      ],
      "metadata": {
        "id": "4qxJkbrMjLyR"
      },
      "execution_count": null,
      "outputs": []
    },
    {
      "cell_type": "markdown",
      "source": [
        "## Using the Bureau of Economic Analysis Python API Library Part 1\n",
        "[Youtube Video for Reference](https://www.youtube.com/watch?v=wZjA6d2WDYk)"
      ],
      "metadata": {
        "id": "C1AGBN4rkP6K"
      }
    },
    {
      "cell_type": "code",
      "source": [
        "!pip install python-bea"
      ],
      "metadata": {
        "colab": {
          "base_uri": "https://localhost:8080/"
        },
        "id": "EJZdTiPikPqR",
        "outputId": "8a1f92e6-517d-434a-8091-45a466ac8158"
      },
      "execution_count": null,
      "outputs": [
        {
          "output_type": "stream",
          "name": "stdout",
          "text": [
            "Requirement already satisfied: python-bea in /usr/local/lib/python3.10/dist-packages (0.1.1)\n",
            "Requirement already satisfied: requests in /usr/local/lib/python3.10/dist-packages (from python-bea) (2.32.3)\n",
            "Requirement already satisfied: charset-normalizer<4,>=2 in /usr/local/lib/python3.10/dist-packages (from requests->python-bea) (3.3.2)\n",
            "Requirement already satisfied: idna<4,>=2.5 in /usr/local/lib/python3.10/dist-packages (from requests->python-bea) (3.8)\n",
            "Requirement already satisfied: urllib3<3,>=1.21.1 in /usr/local/lib/python3.10/dist-packages (from requests->python-bea) (2.0.7)\n",
            "Requirement already satisfied: certifi>=2017.4.17 in /usr/local/lib/python3.10/dist-packages (from requests->python-bea) (2024.7.4)\n"
          ]
        }
      ]
    },
    {
      "cell_type": "code",
      "source": [
        "!pip install pybea configparser"
      ],
      "metadata": {
        "colab": {
          "base_uri": "https://localhost:8080/"
        },
        "id": "ePH5ORWIe4BX",
        "outputId": "48f48462-0fd8-4488-a985-1a3890dd84c4"
      },
      "execution_count": null,
      "outputs": [
        {
          "output_type": "stream",
          "name": "stdout",
          "text": [
            "Requirement already satisfied: pybea in /usr/local/lib/python3.10/dist-packages (0.7.0a0)\n",
            "Requirement already satisfied: configparser in /usr/local/lib/python3.10/dist-packages (7.1.0)\n"
          ]
        }
      ]
    },
    {
      "cell_type": "code",
      "source": [
        "from google.colab import files\n",
        "uploaded = files.upload()"
      ],
      "metadata": {
        "colab": {
          "base_uri": "https://localhost:8080/",
          "height": 74
        },
        "id": "iB3Hex7IiMya",
        "outputId": "e7063cf2-db16-4ad3-d5fa-d1c73bdd7daa"
      },
      "execution_count": null,
      "outputs": [
        {
          "output_type": "display_data",
          "data": {
            "text/plain": [
              "<IPython.core.display.HTML object>"
            ],
            "text/html": [
              "\n",
              "     <input type=\"file\" id=\"files-0ab91cf6-195f-45ea-9009-3d2266fcde0c\" name=\"files[]\" multiple disabled\n",
              "        style=\"border:none\" />\n",
              "     <output id=\"result-0ab91cf6-195f-45ea-9009-3d2266fcde0c\">\n",
              "      Upload widget is only available when the cell has been executed in the\n",
              "      current browser session. Please rerun this cell to enable.\n",
              "      </output>\n",
              "      <script>// Copyright 2017 Google LLC\n",
              "//\n",
              "// Licensed under the Apache License, Version 2.0 (the \"License\");\n",
              "// you may not use this file except in compliance with the License.\n",
              "// You may obtain a copy of the License at\n",
              "//\n",
              "//      http://www.apache.org/licenses/LICENSE-2.0\n",
              "//\n",
              "// Unless required by applicable law or agreed to in writing, software\n",
              "// distributed under the License is distributed on an \"AS IS\" BASIS,\n",
              "// WITHOUT WARRANTIES OR CONDITIONS OF ANY KIND, either express or implied.\n",
              "// See the License for the specific language governing permissions and\n",
              "// limitations under the License.\n",
              "\n",
              "/**\n",
              " * @fileoverview Helpers for google.colab Python module.\n",
              " */\n",
              "(function(scope) {\n",
              "function span(text, styleAttributes = {}) {\n",
              "  const element = document.createElement('span');\n",
              "  element.textContent = text;\n",
              "  for (const key of Object.keys(styleAttributes)) {\n",
              "    element.style[key] = styleAttributes[key];\n",
              "  }\n",
              "  return element;\n",
              "}\n",
              "\n",
              "// Max number of bytes which will be uploaded at a time.\n",
              "const MAX_PAYLOAD_SIZE = 100 * 1024;\n",
              "\n",
              "function _uploadFiles(inputId, outputId) {\n",
              "  const steps = uploadFilesStep(inputId, outputId);\n",
              "  const outputElement = document.getElementById(outputId);\n",
              "  // Cache steps on the outputElement to make it available for the next call\n",
              "  // to uploadFilesContinue from Python.\n",
              "  outputElement.steps = steps;\n",
              "\n",
              "  return _uploadFilesContinue(outputId);\n",
              "}\n",
              "\n",
              "// This is roughly an async generator (not supported in the browser yet),\n",
              "// where there are multiple asynchronous steps and the Python side is going\n",
              "// to poll for completion of each step.\n",
              "// This uses a Promise to block the python side on completion of each step,\n",
              "// then passes the result of the previous step as the input to the next step.\n",
              "function _uploadFilesContinue(outputId) {\n",
              "  const outputElement = document.getElementById(outputId);\n",
              "  const steps = outputElement.steps;\n",
              "\n",
              "  const next = steps.next(outputElement.lastPromiseValue);\n",
              "  return Promise.resolve(next.value.promise).then((value) => {\n",
              "    // Cache the last promise value to make it available to the next\n",
              "    // step of the generator.\n",
              "    outputElement.lastPromiseValue = value;\n",
              "    return next.value.response;\n",
              "  });\n",
              "}\n",
              "\n",
              "/**\n",
              " * Generator function which is called between each async step of the upload\n",
              " * process.\n",
              " * @param {string} inputId Element ID of the input file picker element.\n",
              " * @param {string} outputId Element ID of the output display.\n",
              " * @return {!Iterable<!Object>} Iterable of next steps.\n",
              " */\n",
              "function* uploadFilesStep(inputId, outputId) {\n",
              "  const inputElement = document.getElementById(inputId);\n",
              "  inputElement.disabled = false;\n",
              "\n",
              "  const outputElement = document.getElementById(outputId);\n",
              "  outputElement.innerHTML = '';\n",
              "\n",
              "  const pickedPromise = new Promise((resolve) => {\n",
              "    inputElement.addEventListener('change', (e) => {\n",
              "      resolve(e.target.files);\n",
              "    });\n",
              "  });\n",
              "\n",
              "  const cancel = document.createElement('button');\n",
              "  inputElement.parentElement.appendChild(cancel);\n",
              "  cancel.textContent = 'Cancel upload';\n",
              "  const cancelPromise = new Promise((resolve) => {\n",
              "    cancel.onclick = () => {\n",
              "      resolve(null);\n",
              "    };\n",
              "  });\n",
              "\n",
              "  // Wait for the user to pick the files.\n",
              "  const files = yield {\n",
              "    promise: Promise.race([pickedPromise, cancelPromise]),\n",
              "    response: {\n",
              "      action: 'starting',\n",
              "    }\n",
              "  };\n",
              "\n",
              "  cancel.remove();\n",
              "\n",
              "  // Disable the input element since further picks are not allowed.\n",
              "  inputElement.disabled = true;\n",
              "\n",
              "  if (!files) {\n",
              "    return {\n",
              "      response: {\n",
              "        action: 'complete',\n",
              "      }\n",
              "    };\n",
              "  }\n",
              "\n",
              "  for (const file of files) {\n",
              "    const li = document.createElement('li');\n",
              "    li.append(span(file.name, {fontWeight: 'bold'}));\n",
              "    li.append(span(\n",
              "        `(${file.type || 'n/a'}) - ${file.size} bytes, ` +\n",
              "        `last modified: ${\n",
              "            file.lastModifiedDate ? file.lastModifiedDate.toLocaleDateString() :\n",
              "                                    'n/a'} - `));\n",
              "    const percent = span('0% done');\n",
              "    li.appendChild(percent);\n",
              "\n",
              "    outputElement.appendChild(li);\n",
              "\n",
              "    const fileDataPromise = new Promise((resolve) => {\n",
              "      const reader = new FileReader();\n",
              "      reader.onload = (e) => {\n",
              "        resolve(e.target.result);\n",
              "      };\n",
              "      reader.readAsArrayBuffer(file);\n",
              "    });\n",
              "    // Wait for the data to be ready.\n",
              "    let fileData = yield {\n",
              "      promise: fileDataPromise,\n",
              "      response: {\n",
              "        action: 'continue',\n",
              "      }\n",
              "    };\n",
              "\n",
              "    // Use a chunked sending to avoid message size limits. See b/62115660.\n",
              "    let position = 0;\n",
              "    do {\n",
              "      const length = Math.min(fileData.byteLength - position, MAX_PAYLOAD_SIZE);\n",
              "      const chunk = new Uint8Array(fileData, position, length);\n",
              "      position += length;\n",
              "\n",
              "      const base64 = btoa(String.fromCharCode.apply(null, chunk));\n",
              "      yield {\n",
              "        response: {\n",
              "          action: 'append',\n",
              "          file: file.name,\n",
              "          data: base64,\n",
              "        },\n",
              "      };\n",
              "\n",
              "      let percentDone = fileData.byteLength === 0 ?\n",
              "          100 :\n",
              "          Math.round((position / fileData.byteLength) * 100);\n",
              "      percent.textContent = `${percentDone}% done`;\n",
              "\n",
              "    } while (position < fileData.byteLength);\n",
              "  }\n",
              "\n",
              "  // All done.\n",
              "  yield {\n",
              "    response: {\n",
              "      action: 'complete',\n",
              "    }\n",
              "  };\n",
              "}\n",
              "\n",
              "scope.google = scope.google || {};\n",
              "scope.google.colab = scope.google.colab || {};\n",
              "scope.google.colab._files = {\n",
              "  _uploadFiles,\n",
              "  _uploadFilesContinue,\n",
              "};\n",
              "})(self);\n",
              "</script> "
            ]
          },
          "metadata": {}
        },
        {
          "output_type": "stream",
          "name": "stdout",
          "text": [
            "Saving first_config.ini to first_config.ini\n"
          ]
        }
      ]
    },
    {
      "cell_type": "code",
      "source": [
        "from configparser import ConfigParser\n",
        "\n",
        "# Initialize ConfigParser and read the uploaded configuration file\n",
        "config = ConfigParser()\n",
        "config.read('first_config.ini')  # The file should be in the root directory after upload\n",
        "\n",
        "# Grab the API key from the specified section and key in the config file\n",
        "API_KEY = config.get('ben_BEA_credentials', 'API_KEY')\n",
        "\n",
        "print(API_KEY)  # Just to verify if it works (you can remove this after testing)"
      ],
      "metadata": {
        "colab": {
          "base_uri": "https://localhost:8080/"
        },
        "id": "c5QkQxocibmV",
        "outputId": "02c1c88c-542a-4e49-8cb0-5988d57bab0f"
      },
      "execution_count": null,
      "outputs": [
        {
          "output_type": "stream",
          "name": "stdout",
          "text": [
            "1F02FE55-8E16-41E9-A896-18FC11C393E0\n"
          ]
        }
      ]
    },
    {
      "cell_type": "code",
      "source": [
        "from pprint import pprint\n",
        "from configparser import ConfigParser\n",
        "from pybea.client import BureauEconomicAnalysisClient\n",
        "\n",
        "# Grab my API Key\n",
        "config = ConfigParser()\n",
        "config.read('configs/config.ini')\n",
        "\n",
        "# Initialize API Client\n",
        "bea_client = BureauEconomicAnalysisClient(api_key=API_KEY)\n",
        "\n",
        "# Grab the dataset list.\n",
        "#dataset_list = bea_client.get_dataset_list()\n",
        "#pprint(dataset_list)\n"
      ],
      "metadata": {
        "colab": {
          "base_uri": "https://localhost:8080/"
        },
        "id": "Pzv-D1rwcJ73",
        "outputId": "5127acb2-0c4d-4de9-e2ba-badece64563d"
      },
      "execution_count": 54,
      "outputs": [
        {
          "output_type": "stream",
          "name": "stdout",
          "text": [
            "https://apps.bea.gov/api/data/?UserID=1F02FE55-8E16-41E9-A896-18FC11C393E0&method=GETDATASETLIST&ResultFormat=JSON\n",
            "{'BEAAPI': {'Request': {'RequestParam': [{'ParameterName': 'USERID',\n",
            "                                          'ParameterValue': '1F02FE55-8E16-41E9-A896-18FC11C393E0'},\n",
            "                                         {'ParameterName': 'METHOD',\n",
            "                                          'ParameterValue': 'GETDATASETLIST'},\n",
            "                                         {'ParameterName': 'RESULTFORMAT',\n",
            "                                          'ParameterValue': 'JSON'}]},\n",
            "            'Results': {'Dataset': [{'DatasetDescription': 'Standard NIPA '\n",
            "                                                           'tables',\n",
            "                                     'DatasetName': 'NIPA'},\n",
            "                                    {'DatasetDescription': 'Standard NI '\n",
            "                                                           'underlying detail '\n",
            "                                                           'tables',\n",
            "                                     'DatasetName': 'NIUnderlyingDetail'},\n",
            "                                    {'DatasetDescription': 'Multinational '\n",
            "                                                           'Enterprises',\n",
            "                                     'DatasetName': 'MNE'},\n",
            "                                    {'DatasetDescription': 'Standard Fixed '\n",
            "                                                           'Assets tables',\n",
            "                                     'DatasetName': 'FixedAssets'},\n",
            "                                    {'DatasetDescription': 'International '\n",
            "                                                           'Transactions '\n",
            "                                                           'Accounts',\n",
            "                                     'DatasetName': 'ITA'},\n",
            "                                    {'DatasetDescription': 'International '\n",
            "                                                           'Investment '\n",
            "                                                           'Position',\n",
            "                                     'DatasetName': 'IIP'},\n",
            "                                    {'DatasetDescription': 'Input-Output Data',\n",
            "                                     'DatasetName': 'InputOutput'},\n",
            "                                    {'DatasetDescription': 'International '\n",
            "                                                           'Services Trade',\n",
            "                                     'DatasetName': 'IntlServTrade'},\n",
            "                                    {'DatasetDescription': 'International '\n",
            "                                                           'Services Supplied '\n",
            "                                                           'Through Affiliates',\n",
            "                                     'DatasetName': 'IntlServSTA'},\n",
            "                                    {'DatasetDescription': 'GDP by Industry',\n",
            "                                     'DatasetName': 'GDPbyIndustry'},\n",
            "                                    {'DatasetDescription': 'Regional data sets',\n",
            "                                     'DatasetName': 'Regional'},\n",
            "                                    {'DatasetDescription': 'Underlying GDP by '\n",
            "                                                           'Industry',\n",
            "                                     'DatasetName': 'UnderlyingGDPbyIndustry'},\n",
            "                                    {'DatasetDescription': 'Metadata about '\n",
            "                                                           'other API datasets',\n",
            "                                     'DatasetName': 'APIDatasetMetaData'}]}}}\n"
          ]
        }
      ]
    },
    {
      "cell_type": "markdown",
      "source": [
        "# Grab Parameters List\n"
      ],
      "metadata": {
        "id": "IuIi8mZuzq6q"
      }
    },
    {
      "cell_type": "code",
      "source": [
        "parameters_set_list = bea_client.get_parameters_list(dataset_name='Regional')\n",
        "# pprint(parameters_set_list)\n"
      ],
      "metadata": {
        "colab": {
          "base_uri": "https://localhost:8080/"
        },
        "id": "vZuzAK93nC_9",
        "outputId": "1129a11f-f58d-46fa-cc6a-0a3b1ab74218"
      },
      "execution_count": 93,
      "outputs": [
        {
          "output_type": "stream",
          "name": "stdout",
          "text": [
            "https://apps.bea.gov/api/data/?userid=1F02FE55-8E16-41E9-A896-18FC11C393E0&method=GETPARAMETERLIST&datasetname=Regional&resultformat=JSON\n"
          ]
        }
      ]
    },
    {
      "cell_type": "markdown",
      "source": [
        "## Part II of Youtube Video\n",
        "[Youtube video for reference](https://www.youtube.com/watch?v=wZjA6d2WDYk)"
      ],
      "metadata": {
        "id": "K5sj91KcoMxe"
      }
    },
    {
      "cell_type": "markdown",
      "source": [
        "# Grab GDP numbers for finance and insurance industry"
      ],
      "metadata": {
        "id": "OX-edEu9zOoQ"
      }
    },
    {
      "cell_type": "code",
      "source": [
        "gdp_by_industry = bea_client.gdp_by_industry(\n",
        "    year = 'ALL',\n",
        "    industry= '52',\n",
        "    frequency = ['A']\n",
        ")\n",
        "#pprint(gdp_by_industry)"
      ],
      "metadata": {
        "colab": {
          "base_uri": "https://localhost:8080/"
        },
        "id": "OePdqC--nh51",
        "outputId": "07f9c269-9471-454f-864f-7001f4eac2b5"
      },
      "execution_count": 82,
      "outputs": [
        {
          "output_type": "stream",
          "name": "stdout",
          "text": [
            "https://apps.bea.gov/api/data/?userid=1F02FE55-8E16-41E9-A896-18FC11C393E0&method=GetData&datasetname=GDPbyIndustry&year=ALL&resultformat=JSON&industry=52&frequency=A&tableid=ALL\n"
          ]
        }
      ]
    },
    {
      "cell_type": "markdown",
      "source": [
        "# Grab the national product and income data\n"
      ],
      "metadata": {
        "id": "_ICbQTqMzMir"
      }
    },
    {
      "cell_type": "code",
      "source": [
        "national_income = bea_client.national_income_and_product_accounts(\n",
        "    table_name = 'T10101',\n",
        "    frequency = ['A', 'Q'],\n",
        "    year = ['2010, 2012']\n",
        ")\n",
        "#pprint(national_income)"
      ],
      "metadata": {
        "colab": {
          "base_uri": "https://localhost:8080/"
        },
        "id": "iXUO0-jGpMBu",
        "outputId": "07c38bce-fddf-46f8-c5f1-cf30abd5ecf7"
      },
      "execution_count": 83,
      "outputs": [
        {
          "output_type": "stream",
          "name": "stdout",
          "text": [
            "https://apps.bea.gov/api/data/?userid=1F02FE55-8E16-41E9-A896-18FC11C393E0&method=GetData&datasetname=NIPA&year=2010%2C+2012&resultformat=JSON&frequency=A%2CQ&tablename=T10101\n"
          ]
        }
      ]
    },
    {
      "cell_type": "markdown",
      "source": [
        "# Grab detailed data\n"
      ],
      "metadata": {
        "id": "TKIMA13nzKS6"
      }
    },
    {
      "cell_type": "code",
      "source": [
        "national_income = bea_client.national_income_and_product_accounts_detail(\n",
        "    table_name = 'U20305',\n",
        "    frequency = ['A', 'Q'],\n",
        "    year = ['2010, 2012']\n",
        ")\n",
        "#pprint(national_income)"
      ],
      "metadata": {
        "colab": {
          "base_uri": "https://localhost:8080/"
        },
        "id": "2ENq7DIaqCXW",
        "outputId": "e1730877-db92-4db1-c4a3-a85d7fa5a3a1"
      },
      "execution_count": 84,
      "outputs": [
        {
          "output_type": "stream",
          "name": "stdout",
          "text": [
            "https://apps.bea.gov/api/data/?userid=1F02FE55-8E16-41E9-A896-18FC11C393E0&method=GetData&datasetname=NIUnderlyingDetail&year=2010%2C+2012&resultformat=JSON&frequency=A%2CQ&tablename=U20305\n"
          ]
        }
      ]
    },
    {
      "cell_type": "markdown",
      "source": [
        "# Grab fixed assets data"
      ],
      "metadata": {
        "id": "UP130lGqzID8"
      }
    },
    {
      "cell_type": "code",
      "source": [
        "fixed_assets = bea_client.fixed_assets(\n",
        "   table_name = 'FAAt201',\n",
        "   year = ['2010, 2012']\n",
        ")\n",
        "#pprint(fixed_assets)"
      ],
      "metadata": {
        "colab": {
          "base_uri": "https://localhost:8080/"
        },
        "id": "oQnM-oWiq22P",
        "outputId": "d01e6be9-a9f6-47f6-de27-5cba188d9a31"
      },
      "execution_count": 85,
      "outputs": [
        {
          "output_type": "stream",
          "name": "stdout",
          "text": [
            "https://apps.bea.gov/api/data/?userid=1F02FE55-8E16-41E9-A896-18FC11C393E0&method=GetData&datasetname=FixedAssets&year=2010%2C+2012&resultformat=JSON&tablename=FAAt201\n"
          ]
        }
      ]
    },
    {
      "cell_type": "markdown",
      "source": [
        "\n",
        "# Direct investments and multinational enterprises"
      ],
      "metadata": {
        "id": "S3YHtyv2zYMO"
      }
    },
    {
      "cell_type": "code",
      "source": [
        "investments = bea_client.direct_investments_and_multinational_enterprises(\n",
        "    direction_of_investment = 'outward',\n",
        "    classification = 'country',\n",
        "    year = '2010',\n",
        "    country = ['650', '699']\n",
        ")\n",
        "#pprint(investments)"
      ],
      "metadata": {
        "colab": {
          "base_uri": "https://localhost:8080/"
        },
        "id": "9Njv6vUvrvbk",
        "outputId": "7e55c7ed-a1a2-4b54-e180-873acb01327f"
      },
      "execution_count": 86,
      "outputs": [
        {
          "output_type": "stream",
          "name": "stdout",
          "text": [
            "https://apps.bea.gov/api/data/?userid=1F02FE55-8E16-41E9-A896-18FC11C393E0&method=GetData&datasetname=MNE&year=2010&country=650%2C699&industry=ALL&seriesid=ALL&classification=country&directionofinvestment=outward&resultformat=JSON&getfootnotes=Yes\n"
          ]
        }
      ]
    },
    {
      "cell_type": "markdown",
      "source": [
        "# Get US Direct Investment Positions"
      ],
      "metadata": {
        "id": "CVrS9Fc3y6JF"
      }
    },
    {
      "cell_type": "code",
      "source": [
        "investments = bea_client.activities_investments_and_multinational_enterprises(\n",
        "    direction_of_investment = 'outward',\n",
        "    classification = 'CountryByIndustry',\n",
        "    series_id = ['4', '5'],\n",
        "    year = ['2011', '2012'],\n",
        "    country = '202',\n",
        "    ownership_level= False,\n",
        "    industry = 'ALL',\n",
        "    non_bank_affilates_only= False\n",
        "    )\n",
        "#pprint(investments)"
      ],
      "metadata": {
        "colab": {
          "base_uri": "https://localhost:8080/"
        },
        "outputId": "7fb5f170-e2e6-454a-f928-9e597e31b2fa",
        "id": "NYP94qH-sgIL"
      },
      "execution_count": 87,
      "outputs": [
        {
          "output_type": "stream",
          "name": "stdout",
          "text": [
            "https://apps.bea.gov/api/data/?userid=1F02FE55-8E16-41E9-A896-18FC11C393E0&method=GetData&datasetname=MNE&year=2011%2C2012&nonbankaffiliatesonly=0&ownershiplevel=0&state=ALL&country=202&industry=ALL&seriesid=4%2C5&classification=CountryByIndustry&directionofinvestment=outward&resultformat=JSON&getfootnotes=Yes\n"
          ]
        }
      ]
    },
    {
      "cell_type": "markdown",
      "source": [
        "# Grab the Balance of Goods"
      ],
      "metadata": {
        "id": "RLSFQ7kdy3wc"
      }
    },
    {
      "cell_type": "code",
      "source": [
        "balance_of_goods = bea_client.international_transactions(\n",
        "    indicator=['BalGds'],\n",
        "    frequency=['A', 'Q'],\n",
        "    year=['2010', '2012'],\n",
        "    area_or_country= ['China'],\n",
        ")\n",
        "#pprint(balance_of_goods)"
      ],
      "metadata": {
        "colab": {
          "base_uri": "https://localhost:8080/"
        },
        "id": "dgewQJrzvIJg",
        "outputId": "f242b0a8-d702-4796-8a6d-48a4a47c7d23"
      },
      "execution_count": 88,
      "outputs": [
        {
          "output_type": "stream",
          "name": "stdout",
          "text": [
            "https://apps.bea.gov/api/data/?userid=1F02FE55-8E16-41E9-A896-18FC11C393E0&method=GetData&datasetname=ITA&indicator=BalGds&year=2010%2C2012&frequency=A%2CQ&areaorcountry=China&resultformat=JSON\n"
          ]
        }
      ]
    },
    {
      "cell_type": "markdown",
      "source": [
        "# Grab US Assets"
      ],
      "metadata": {
        "id": "61-WG54vy1JR"
      }
    },
    {
      "cell_type": "code",
      "source": [
        "us_assets = bea_client.international_investments_positions(\n",
        "    type_of_investment = ['FinAssetsExclFinDeriv'],\n",
        "    component = ['ChgPosPrice'],\n",
        "    year = ['ALL'],\n",
        "    frequency = ['A'],\n",
        ")\n",
        "#pprint(us_assets)"
      ],
      "metadata": {
        "colab": {
          "base_uri": "https://localhost:8080/"
        },
        "id": "CNbpSs5iwMTs",
        "outputId": "97f8a039-2871-44e7-b142-d95d86a73d5e"
      },
      "execution_count": 89,
      "outputs": [
        {
          "output_type": "stream",
          "name": "stdout",
          "text": [
            "https://apps.bea.gov/api/data/?userid=1F02FE55-8E16-41E9-A896-18FC11C393E0&method=GetData&datasetname=IIP&year=ALL&frequency=A&component=ChgPosPrice&typeofinvestment=FinAssetsExclFinDeriv&resultformat=JSON\n"
          ]
        }
      ]
    },
    {
      "cell_type": "markdown",
      "source": [
        "# Input Output Data"
      ],
      "metadata": {
        "id": "MgXwUH7zw044"
      }
    },
    {
      "cell_type": "code",
      "source": [
        "input_output_data = bea_client.input_output_statstics(\n",
        "    table_id = ['56'],\n",
        "    year = ['2010', '2012']\n",
        ")\n",
        "#pprint(input_output_data)"
      ],
      "metadata": {
        "colab": {
          "base_uri": "https://localhost:8080/"
        },
        "id": "Zz9LkQ45w2lL",
        "outputId": "657b0bfb-965d-4eac-e773-dfe6c5701994"
      },
      "execution_count": 90,
      "outputs": [
        {
          "output_type": "stream",
          "name": "stdout",
          "text": [
            "https://apps.bea.gov/api/data/?userid=1F02FE55-8E16-41E9-A896-18FC11C393E0&method=GetData&datasetname=InputOutput&year=2010%2C2012&tableid=56&resultformat=JSON\n"
          ]
        }
      ]
    },
    {
      "cell_type": "markdown",
      "source": [
        "# Grab Underlying GDP by Industry"
      ],
      "metadata": {
        "id": "dCYYSfvqxuTn"
      }
    },
    {
      "cell_type": "code",
      "source": [
        "underlying_gdp_by_industry = bea_client.underlying_gdp_by_industry(\n",
        "    industry = 'ALL',\n",
        "    year = ['2010', '2012'],\n",
        "    frequency = ['A'],\n",
        "    table_id = ['ALL']\n",
        ")\n",
        "\n",
        "#pprint(underlying_gdp_by_industry)"
      ],
      "metadata": {
        "colab": {
          "base_uri": "https://localhost:8080/"
        },
        "id": "pKNR_quuxtGA",
        "outputId": "e2450f04-b15a-4575-c25a-f460c2dc4c3f"
      },
      "execution_count": 91,
      "outputs": [
        {
          "output_type": "stream",
          "name": "stdout",
          "text": [
            "https://apps.bea.gov/api/data/?userid=1F02FE55-8E16-41E9-A896-18FC11C393E0&method=GetData&datasetname=underlyingGDPbyIndustry&year=2010%2C2012&resultformat=JSON&industry=ALL&frequency=A&tableid=ALL\n"
          ]
        }
      ]
    },
    {
      "cell_type": "markdown",
      "source": [
        "# Grab International Trade Services"
      ],
      "metadata": {
        "id": "pmBtvGHdyCA2"
      }
    },
    {
      "cell_type": "code",
      "source": [
        "international_trade_services = bea_client.international_trade_services(\n",
        "    type_of_service='AllServiceTypes',\n",
        "    trade_direction=['Imports'],\n",
        "    year = ['2014', '2015'],\n",
        "    affiliation = ['AllAffiliations'],\n",
        "    area_or_country = ['Germany'],\n",
        ")\n",
        "#pprint(international_trade_services)\n"
      ],
      "metadata": {
        "colab": {
          "base_uri": "https://localhost:8080/"
        },
        "id": "bS-YNjbRyBuS",
        "outputId": "4e44479e-6b6d-4542-b56a-73d72bce80a5"
      },
      "execution_count": 92,
      "outputs": [
        {
          "output_type": "stream",
          "name": "stdout",
          "text": [
            "https://apps.bea.gov/api/data/?userid=1F02FE55-8E16-41E9-A896-18FC11C393E0&method=GetData&datasetname=IntlServTrade&year=2014%2C2015&resultformat=JSON&typeofservice=AllServiceTypes&tradedirection=Imports&affiliation=AllAffiliations&areaorcountry=Germany\n"
          ]
        }
      ]
    }
  ]
}